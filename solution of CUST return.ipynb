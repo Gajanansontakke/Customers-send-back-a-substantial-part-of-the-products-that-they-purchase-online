{
 "cells": [
  {
   "cell_type": "markdown",
   "id": "66b746c3",
   "metadata": {},
   "source": [
    "#### Problem Statement :\n",
    "\n",
    "Customers send back a substantial part of the products that they purchase online. Return shipping is expensive for online platforms and return orders are said to reach 50% for certain industries and products. Nevertheless, free or inexpensive return shipping has become a customer expectation and de-facto standard in the fierce online competition on clothing, but shops have indirect ways to influence customer purchase behavior. For purchases where return seems likely, a shop could, for example, restrict payment options or display additional marketing communication.\n",
    "\n",
    "#### Objective:\n",
    "To predict whether an item would be returned or not."
   ]
  },
  {
   "cell_type": "code",
   "execution_count": 79,
   "id": "29358db8",
   "metadata": {},
   "outputs": [],
   "source": [
    "# loading libraries\n",
    "import pandas as pd\n",
    "pd.set_option('display.max_columns', 50)\n",
    "import numpy as np\n",
    "import matplotlib.pyplot as plt\n",
    "import seaborn as sns\n",
    "import warnings\n",
    "warnings.filterwarnings('ignore')\n",
    "from collections import Counter\n",
    "from imblearn.over_sampling import SMOTE\n",
    "from sklearn.preprocessing import StandardScaler\n",
    "from sklearn.model_selection import cross_val_score, StratifiedKFold, train_test_split\n",
    "from sklearn.metrics import accuracy_score, classification_report, roc_auc_score\n",
    "from sklearn.neighbors import KNeighborsClassifier\n",
    "from sklearn.linear_model import LogisticRegression\n",
    "from sklearn.tree import DecisionTreeClassifier\n",
    "from sklearn.ensemble import RandomForestClassifier"
   ]
  },
  {
   "cell_type": "code",
   "execution_count": 2,
   "id": "840f9fa3",
   "metadata": {},
   "outputs": [
    {
     "name": "stdout",
     "output_type": "stream",
     "text": [
      "(79945, 14)\n"
     ]
    },
    {
     "data": {
      "text/html": [
       "<div>\n",
       "<style scoped>\n",
       "    .dataframe tbody tr th:only-of-type {\n",
       "        vertical-align: middle;\n",
       "    }\n",
       "\n",
       "    .dataframe tbody tr th {\n",
       "        vertical-align: top;\n",
       "    }\n",
       "\n",
       "    .dataframe thead th {\n",
       "        text-align: right;\n",
       "    }\n",
       "</style>\n",
       "<table border=\"1\" class=\"dataframe\">\n",
       "  <thead>\n",
       "    <tr style=\"text-align: right;\">\n",
       "      <th></th>\n",
       "      <th>order_item_id</th>\n",
       "      <th>order_date</th>\n",
       "      <th>delivery_date</th>\n",
       "      <th>item_id</th>\n",
       "      <th>item_size</th>\n",
       "      <th>item_color</th>\n",
       "      <th>brand_id</th>\n",
       "      <th>item_price</th>\n",
       "      <th>user_id</th>\n",
       "      <th>user_title</th>\n",
       "      <th>user_dob</th>\n",
       "      <th>user_state</th>\n",
       "      <th>user_reg_date</th>\n",
       "      <th>return</th>\n",
       "    </tr>\n",
       "  </thead>\n",
       "  <tbody>\n",
       "    <tr>\n",
       "      <th>0</th>\n",
       "      <td>1</td>\n",
       "      <td>22-06-2016</td>\n",
       "      <td>27-06-2016</td>\n",
       "      <td>643</td>\n",
       "      <td>38</td>\n",
       "      <td>navy</td>\n",
       "      <td>30</td>\n",
       "      <td>49.9</td>\n",
       "      <td>30822</td>\n",
       "      <td>Mrs</td>\n",
       "      <td>17-04-1969</td>\n",
       "      <td>1013</td>\n",
       "      <td>23-06-2016</td>\n",
       "      <td>0</td>\n",
       "    </tr>\n",
       "    <tr>\n",
       "      <th>1</th>\n",
       "      <td>10</td>\n",
       "      <td>22-06-2016</td>\n",
       "      <td>27-06-2016</td>\n",
       "      <td>195</td>\n",
       "      <td>xxl</td>\n",
       "      <td>grey</td>\n",
       "      <td>46</td>\n",
       "      <td>19.9</td>\n",
       "      <td>30823</td>\n",
       "      <td>Mrs</td>\n",
       "      <td>22-04-1970</td>\n",
       "      <td>1001</td>\n",
       "      <td>15-03-2015</td>\n",
       "      <td>1</td>\n",
       "    </tr>\n",
       "    <tr>\n",
       "      <th>2</th>\n",
       "      <td>11</td>\n",
       "      <td>22-06-2016</td>\n",
       "      <td>05-07-2016</td>\n",
       "      <td>25</td>\n",
       "      <td>xxl</td>\n",
       "      <td>grey</td>\n",
       "      <td>5</td>\n",
       "      <td>79.9</td>\n",
       "      <td>30823</td>\n",
       "      <td>Mrs</td>\n",
       "      <td>22-04-1970</td>\n",
       "      <td>1001</td>\n",
       "      <td>15-03-2015</td>\n",
       "      <td>0</td>\n",
       "    </tr>\n",
       "    <tr>\n",
       "      <th>3</th>\n",
       "      <td>32</td>\n",
       "      <td>23-06-2016</td>\n",
       "      <td>26-06-2016</td>\n",
       "      <td>173</td>\n",
       "      <td>m</td>\n",
       "      <td>brown</td>\n",
       "      <td>20</td>\n",
       "      <td>19.9</td>\n",
       "      <td>17234</td>\n",
       "      <td>Mrs</td>\n",
       "      <td>09-01-1960</td>\n",
       "      <td>1013</td>\n",
       "      <td>17-02-2015</td>\n",
       "      <td>0</td>\n",
       "    </tr>\n",
       "    <tr>\n",
       "      <th>4</th>\n",
       "      <td>43</td>\n",
       "      <td>23-06-2016</td>\n",
       "      <td>26-06-2016</td>\n",
       "      <td>394</td>\n",
       "      <td>40</td>\n",
       "      <td>black</td>\n",
       "      <td>44</td>\n",
       "      <td>90.0</td>\n",
       "      <td>30827</td>\n",
       "      <td>Mrs</td>\n",
       "      <td>NaN</td>\n",
       "      <td>1006</td>\n",
       "      <td>09-02-2016</td>\n",
       "      <td>1</td>\n",
       "    </tr>\n",
       "  </tbody>\n",
       "</table>\n",
       "</div>"
      ],
      "text/plain": [
       "   order_item_id  order_date delivery_date  item_id item_size item_color  \\\n",
       "0              1  22-06-2016    27-06-2016      643        38       navy   \n",
       "1             10  22-06-2016    27-06-2016      195       xxl       grey   \n",
       "2             11  22-06-2016    05-07-2016       25       xxl       grey   \n",
       "3             32  23-06-2016    26-06-2016      173         m      brown   \n",
       "4             43  23-06-2016    26-06-2016      394        40      black   \n",
       "\n",
       "   brand_id  item_price  user_id user_title    user_dob  user_state  \\\n",
       "0        30        49.9    30822        Mrs  17-04-1969        1013   \n",
       "1        46        19.9    30823        Mrs  22-04-1970        1001   \n",
       "2         5        79.9    30823        Mrs  22-04-1970        1001   \n",
       "3        20        19.9    17234        Mrs  09-01-1960        1013   \n",
       "4        44        90.0    30827        Mrs         NaN        1006   \n",
       "\n",
       "  user_reg_date  return  \n",
       "0    23-06-2016       0  \n",
       "1    15-03-2015       1  \n",
       "2    15-03-2015       0  \n",
       "3    17-02-2015       0  \n",
       "4    09-02-2016       1  "
      ]
     },
     "execution_count": 2,
     "metadata": {},
     "output_type": "execute_result"
    }
   ],
   "source": [
    "# loading dataset\n",
    "\n",
    "df = pd.read_csv('TrainingData_V1 (1).csv')\n",
    "print(df.shape)\n",
    "df.head()"
   ]
  },
  {
   "cell_type": "code",
   "execution_count": 3,
   "id": "cdddf83c",
   "metadata": {},
   "outputs": [
    {
     "data": {
      "text/plain": [
       "0    43283\n",
       "1    36662\n",
       "Name: return, dtype: int64"
      ]
     },
     "execution_count": 3,
     "metadata": {},
     "output_type": "execute_result"
    }
   ],
   "source": [
    "# checking target\n",
    "df['return'].value_counts()"
   ]
  },
  {
   "cell_type": "code",
   "execution_count": 4,
   "id": "b135a236",
   "metadata": {},
   "outputs": [
    {
     "data": {
      "image/png": "[encoded data removed]",
      "text/plain": [
       "<Figure size 432x288 with 1 Axes>"
      ]
     },
     "metadata": {
      "needs_background": "light"
     },
     "output_type": "display_data"
    }
   ],
   "source": [
    "# plotting target composition\n",
    "sns.countplot(df['return']);"
   ]
  },
  {
   "cell_type": "markdown",
   "id": "2513c8ef",
   "metadata": {},
   "source": [
    "Target is almost balanced with 54% data with value=0 and 46% data with value=1."
   ]
  },
  {
   "cell_type": "code",
   "execution_count": 5,
   "id": "2d9bc592",
   "metadata": {},
   "outputs": [
    {
     "data": {
      "text/html": [
       "<div>\n",
       "<style scoped>\n",
       "    .dataframe tbody tr th:only-of-type {\n",
       "        vertical-align: middle;\n",
       "    }\n",
       "\n",
       "    .dataframe tbody tr th {\n",
       "        vertical-align: top;\n",
       "    }\n",
       "\n",
       "    .dataframe thead th {\n",
       "        text-align: right;\n",
       "    }\n",
       "</style>\n",
       "<table border=\"1\" class=\"dataframe\">\n",
       "  <thead>\n",
       "    <tr style=\"text-align: right;\">\n",
       "      <th></th>\n",
       "      <th>order_item_id</th>\n",
       "      <th>order_date</th>\n",
       "      <th>delivery_date</th>\n",
       "      <th>item_id</th>\n",
       "      <th>item_size</th>\n",
       "      <th>item_color</th>\n",
       "      <th>brand_id</th>\n",
       "      <th>item_price</th>\n",
       "      <th>user_id</th>\n",
       "      <th>user_title</th>\n",
       "      <th>user_dob</th>\n",
       "      <th>user_state</th>\n",
       "      <th>user_reg_date</th>\n",
       "      <th>return</th>\n",
       "    </tr>\n",
       "  </thead>\n",
       "  <tbody>\n",
       "    <tr>\n",
       "      <th>36696</th>\n",
       "      <td>67208</td>\n",
       "      <td>13-08-2016</td>\n",
       "      <td>14-08-2016</td>\n",
       "      <td>1468</td>\n",
       "      <td>xxl</td>\n",
       "      <td>blue</td>\n",
       "      <td>3</td>\n",
       "      <td>59.9</td>\n",
       "      <td>35944</td>\n",
       "      <td>Mrs</td>\n",
       "      <td>11-12-1972</td>\n",
       "      <td>1003</td>\n",
       "      <td>17-02-2015</td>\n",
       "      <td>0</td>\n",
       "    </tr>\n",
       "    <tr>\n",
       "      <th>70485</th>\n",
       "      <td>4342</td>\n",
       "      <td>26-06-2016</td>\n",
       "      <td>NaN</td>\n",
       "      <td>219</td>\n",
       "      <td>39</td>\n",
       "      <td>brown</td>\n",
       "      <td>38</td>\n",
       "      <td>49.9</td>\n",
       "      <td>13839</td>\n",
       "      <td>Mrs</td>\n",
       "      <td>11-11-1947</td>\n",
       "      <td>1011</td>\n",
       "      <td>17-02-2015</td>\n",
       "      <td>0</td>\n",
       "    </tr>\n",
       "    <tr>\n",
       "      <th>17948</th>\n",
       "      <td>79995</td>\n",
       "      <td>24-08-2016</td>\n",
       "      <td>28-08-2016</td>\n",
       "      <td>533</td>\n",
       "      <td>xxl</td>\n",
       "      <td>ocher</td>\n",
       "      <td>74</td>\n",
       "      <td>29.9</td>\n",
       "      <td>22505</td>\n",
       "      <td>Mrs</td>\n",
       "      <td>09-11-1952</td>\n",
       "      <td>1015</td>\n",
       "      <td>17-02-2015</td>\n",
       "      <td>1</td>\n",
       "    </tr>\n",
       "    <tr>\n",
       "      <th>47680</th>\n",
       "      <td>76316</td>\n",
       "      <td>21-08-2016</td>\n",
       "      <td>23-08-2016</td>\n",
       "      <td>1631</td>\n",
       "      <td>unsized</td>\n",
       "      <td>orange</td>\n",
       "      <td>20</td>\n",
       "      <td>39.9</td>\n",
       "      <td>19176</td>\n",
       "      <td>Mrs</td>\n",
       "      <td>08-02-1970</td>\n",
       "      <td>1002</td>\n",
       "      <td>14-05-2016</td>\n",
       "      <td>0</td>\n",
       "    </tr>\n",
       "    <tr>\n",
       "      <th>46405</th>\n",
       "      <td>63773</td>\n",
       "      <td>10-08-2016</td>\n",
       "      <td>14-08-2016</td>\n",
       "      <td>1622</td>\n",
       "      <td>38</td>\n",
       "      <td>blue</td>\n",
       "      <td>34</td>\n",
       "      <td>59.9</td>\n",
       "      <td>40476</td>\n",
       "      <td>Mrs</td>\n",
       "      <td>10-05-1976</td>\n",
       "      <td>1010</td>\n",
       "      <td>07-08-2016</td>\n",
       "      <td>0</td>\n",
       "    </tr>\n",
       "    <tr>\n",
       "      <th>65407</th>\n",
       "      <td>52918</td>\n",
       "      <td>05-08-2016</td>\n",
       "      <td>08-08-2016</td>\n",
       "      <td>1497</td>\n",
       "      <td>40</td>\n",
       "      <td>green</td>\n",
       "      <td>1</td>\n",
       "      <td>129.9</td>\n",
       "      <td>18011</td>\n",
       "      <td>Mrs</td>\n",
       "      <td>NaN</td>\n",
       "      <td>1007</td>\n",
       "      <td>10-05-2016</td>\n",
       "      <td>1</td>\n",
       "    </tr>\n",
       "    <tr>\n",
       "      <th>64406</th>\n",
       "      <td>43062</td>\n",
       "      <td>26-07-2016</td>\n",
       "      <td>27-07-2016</td>\n",
       "      <td>1557</td>\n",
       "      <td>l</td>\n",
       "      <td>black</td>\n",
       "      <td>31</td>\n",
       "      <td>89.9</td>\n",
       "      <td>7443</td>\n",
       "      <td>Mrs</td>\n",
       "      <td>07-08-1972</td>\n",
       "      <td>1002</td>\n",
       "      <td>12-04-2016</td>\n",
       "      <td>1</td>\n",
       "    </tr>\n",
       "    <tr>\n",
       "      <th>52100</th>\n",
       "      <td>20014</td>\n",
       "      <td>30-06-2016</td>\n",
       "      <td>23-07-2016</td>\n",
       "      <td>17</td>\n",
       "      <td>36</td>\n",
       "      <td>blue</td>\n",
       "      <td>11</td>\n",
       "      <td>34.9</td>\n",
       "      <td>31084</td>\n",
       "      <td>Mrs</td>\n",
       "      <td>24-07-1969</td>\n",
       "      <td>1008</td>\n",
       "      <td>25-06-2016</td>\n",
       "      <td>0</td>\n",
       "    </tr>\n",
       "    <tr>\n",
       "      <th>20648</th>\n",
       "      <td>6864</td>\n",
       "      <td>27-06-2016</td>\n",
       "      <td>NaN</td>\n",
       "      <td>166</td>\n",
       "      <td>46</td>\n",
       "      <td>olive</td>\n",
       "      <td>6</td>\n",
       "      <td>34.9</td>\n",
       "      <td>15701</td>\n",
       "      <td>Mrs</td>\n",
       "      <td>18-01-1957</td>\n",
       "      <td>1001</td>\n",
       "      <td>17-02-2015</td>\n",
       "      <td>0</td>\n",
       "    </tr>\n",
       "    <tr>\n",
       "      <th>56010</th>\n",
       "      <td>59014</td>\n",
       "      <td>07-08-2016</td>\n",
       "      <td>10-08-2016</td>\n",
       "      <td>1903</td>\n",
       "      <td>40</td>\n",
       "      <td>blue</td>\n",
       "      <td>113</td>\n",
       "      <td>69.9</td>\n",
       "      <td>40926</td>\n",
       "      <td>Mrs</td>\n",
       "      <td>28-05-1962</td>\n",
       "      <td>1011</td>\n",
       "      <td>05-09-2015</td>\n",
       "      <td>1</td>\n",
       "    </tr>\n",
       "  </tbody>\n",
       "</table>\n",
       "</div>"
      ],
      "text/plain": [
       "       order_item_id  order_date delivery_date  item_id item_size item_color  \\\n",
       "36696          67208  13-08-2016    14-08-2016     1468       xxl       blue   \n",
       "70485           4342  26-06-2016           NaN      219        39      brown   \n",
       "17948          79995  24-08-2016    28-08-2016      533       xxl      ocher   \n",
       "47680          76316  21-08-2016    23-08-2016     1631   unsized     orange   \n",
       "46405          63773  10-08-2016    14-08-2016     1622        38       blue   \n",
       "65407          52918  05-08-2016    08-08-2016     1497        40      green   \n",
       "64406          43062  26-07-2016    27-07-2016     1557         l      black   \n",
       "52100          20014  30-06-2016    23-07-2016       17        36       blue   \n",
       "20648           6864  27-06-2016           NaN      166        46      olive   \n",
       "56010          59014  07-08-2016    10-08-2016     1903        40       blue   \n",
       "\n",
       "       brand_id  item_price  user_id user_title    user_dob  user_state  \\\n",
       "36696         3        59.9    35944        Mrs  11-12-1972        1003   \n",
       "70485        38        49.9    13839        Mrs  11-11-1947        1011   \n",
       "17948        74        29.9    22505        Mrs  09-11-1952        1015   \n",
       "47680        20        39.9    19176        Mrs  08-02-1970        1002   \n",
       "46405        34        59.9    40476        Mrs  10-05-1976        1010   \n",
       "65407         1       129.9    18011        Mrs         NaN        1007   \n",
       "64406        31        89.9     7443        Mrs  07-08-1972        1002   \n",
       "52100        11        34.9    31084        Mrs  24-07-1969        1008   \n",
       "20648         6        34.9    15701        Mrs  18-01-1957        1001   \n",
       "56010       113        69.9    40926        Mrs  28-05-1962        1011   \n",
       "\n",
       "      user_reg_date  return  \n",
       "36696    17-02-2015       0  \n",
       "70485    17-02-2015       0  \n",
       "17948    17-02-2015       1  \n",
       "47680    14-05-2016       0  \n",
       "46405    07-08-2016       0  \n",
       "65407    10-05-2016       1  \n",
       "64406    12-04-2016       1  \n",
       "52100    25-06-2016       0  \n",
       "20648    17-02-2015       0  \n",
       "56010    05-09-2015       1  "
      ]
     },
     "execution_count": 5,
     "metadata": {},
     "output_type": "execute_result"
    }
   ],
   "source": [
    "# checking 10 random samples\n",
    "df.sample(10)"
   ]
  },
  {
   "cell_type": "code",
   "execution_count": 6,
   "id": "7fb1a29e",
   "metadata": {},
   "outputs": [
    {
     "name": "stdout",
     "output_type": "stream",
     "text": [
      "<class 'pandas.core.frame.DataFrame'>\n",
      "RangeIndex: 79945 entries, 0 to 79944\n",
      "Data columns (total 14 columns):\n",
      " #   Column         Non-Null Count  Dtype  \n",
      "---  ------         --------------  -----  \n",
      " 0   order_item_id  79945 non-null  int64  \n",
      " 1   order_date     79945 non-null  object \n",
      " 2   delivery_date  72509 non-null  object \n",
      " 3   item_id        79945 non-null  int64  \n",
      " 4   item_size      79945 non-null  object \n",
      " 5   item_color     79945 non-null  object \n",
      " 6   brand_id       79945 non-null  int64  \n",
      " 7   item_price     79945 non-null  float64\n",
      " 8   user_id        79945 non-null  int64  \n",
      " 9   user_title     79945 non-null  object \n",
      " 10  user_dob       72956 non-null  object \n",
      " 11  user_state     79945 non-null  int64  \n",
      " 12  user_reg_date  79945 non-null  object \n",
      " 13  return         79945 non-null  int64  \n",
      "dtypes: float64(1), int64(6), object(7)\n",
      "memory usage: 8.5+ MB\n"
     ]
    }
   ],
   "source": [
    "# checking data info\n",
    "df.info()"
   ]
  },
  {
   "cell_type": "markdown",
   "id": "f03dcce4",
   "metadata": {},
   "source": [
    "We have missing values in data.\n",
    "\n",
    "order_date, delivery_date, user_dob, user_reg_date are supposed to be datetime features which have to be converted.\n",
    "\n",
    "certain features are of 'object' type that have to be converted."
   ]
  },
  {
   "cell_type": "code",
   "execution_count": 7,
   "id": "6e0eec95",
   "metadata": {},
   "outputs": [],
   "source": [
    "# converting to datetime\n",
    "for item in ['order_date', 'delivery_date', 'user_dob', 'user_reg_date']:\n",
    "    df[item] = df[item].astype('datetime64')"
   ]
  },
  {
   "cell_type": "code",
   "execution_count": 8,
   "id": "1abb280d",
   "metadata": {},
   "outputs": [],
   "source": [
    "# converting 'object' to 'category'\n",
    "for col in df.columns:\n",
    "    if df[col].dtypes=='object':\n",
    "        df[col] = df[col].astype('category')"
   ]
  },
  {
   "cell_type": "code",
   "execution_count": 9,
   "id": "041bb21d",
   "metadata": {},
   "outputs": [
    {
     "data": {
      "text/plain": [
       "0"
      ]
     },
     "execution_count": 9,
     "metadata": {},
     "output_type": "execute_result"
    }
   ],
   "source": [
    "# checking for duplicate entries\n",
    "df.duplicated().sum()"
   ]
  },
  {
   "cell_type": "code",
   "execution_count": 10,
   "id": "174fc29b",
   "metadata": {},
   "outputs": [
    {
     "data": {
      "text/plain": [
       "order_item_id       0\n",
       "order_date          0\n",
       "delivery_date    7436\n",
       "item_id             0\n",
       "item_size           0\n",
       "item_color          0\n",
       "brand_id            0\n",
       "item_price          0\n",
       "user_id             0\n",
       "user_title          0\n",
       "user_dob         6989\n",
       "user_state          0\n",
       "user_reg_date       0\n",
       "return              0\n",
       "dtype: int64"
      ]
     },
     "execution_count": 10,
     "metadata": {},
     "output_type": "execute_result"
    }
   ],
   "source": [
    "# checking for missing values\n",
    "df.isnull().sum()"
   ]
  },
  {
   "cell_type": "markdown",
   "id": "76a67ccc",
   "metadata": {},
   "source": [
    "We have missing values in 'delivery_date' and 'user_dob' which are not missing at random. Hence, we cannot impute them with any value we like. So, dropping those missing samples."
   ]
  },
  {
   "cell_type": "code",
   "execution_count": 11,
   "id": "1c7ef8ca",
   "metadata": {},
   "outputs": [
    {
     "data": {
      "text/plain": [
       "order_item_id    0\n",
       "order_date       0\n",
       "delivery_date    0\n",
       "item_id          0\n",
       "item_size        0\n",
       "item_color       0\n",
       "brand_id         0\n",
       "item_price       0\n",
       "user_id          0\n",
       "user_title       0\n",
       "user_dob         0\n",
       "user_state       0\n",
       "user_reg_date    0\n",
       "return           0\n",
       "dtype: int64"
      ]
     },
     "execution_count": 11,
     "metadata": {},
     "output_type": "execute_result"
    }
   ],
   "source": [
    "# dropping and checking missing values\n",
    "df.dropna(inplace=True)\n",
    "df.isnull().sum()"
   ]
  },
  {
   "cell_type": "code",
   "execution_count": 12,
   "id": "1fdc0935",
   "metadata": {},
   "outputs": [],
   "source": [
    "# separating 'datetime', 'numerical' and 'categorical' features\n",
    "# creating datetime features\n",
    "datetime_feats = [col for col in df.columns if df[col].dtype=='datetime64[ns]']"
   ]
  },
  {
   "cell_type": "code",
   "execution_count": 13,
   "id": "8a8207ee",
   "metadata": {},
   "outputs": [
    {
     "data": {
      "text/plain": [
       "['order_date', 'delivery_date', 'user_dob', 'user_reg_date']"
      ]
     },
     "execution_count": 13,
     "metadata": {},
     "output_type": "execute_result"
    }
   ],
   "source": [
    "datetime_feats"
   ]
  },
  {
   "cell_type": "code",
   "execution_count": 14,
   "id": "a44d7fc1",
   "metadata": {},
   "outputs": [],
   "source": [
    "# creating categorical features\n",
    "categorical_feats = [col for col in df.columns if df[col].dtype=='category']"
   ]
  },
  {
   "cell_type": "code",
   "execution_count": 15,
   "id": "b08c2d20",
   "metadata": {},
   "outputs": [
    {
     "data": {
      "text/plain": [
       "['item_size', 'item_color', 'user_title']"
      ]
     },
     "execution_count": 15,
     "metadata": {},
     "output_type": "execute_result"
    }
   ],
   "source": [
    "categorical_feats"
   ]
  },
  {
   "cell_type": "code",
   "execution_count": 16,
   "id": "091000e0",
   "metadata": {},
   "outputs": [],
   "source": [
    "# creating numerical features\n",
    "numerical_feats = [col for col in df.columns if col not in datetime_feats and col not in categorical_feats]"
   ]
  },
  {
   "cell_type": "code",
   "execution_count": 17,
   "id": "421f8bb3",
   "metadata": {},
   "outputs": [
    {
     "data": {
      "text/plain": [
       "['order_item_id',\n",
       " 'item_id',\n",
       " 'brand_id',\n",
       " 'item_price',\n",
       " 'user_id',\n",
       " 'user_state',\n",
       " 'return']"
      ]
     },
     "execution_count": 17,
     "metadata": {},
     "output_type": "execute_result"
    }
   ],
   "source": [
    "numerical_feats"
   ]
  },
  {
   "cell_type": "code",
   "execution_count": 18,
   "id": "80cb2452",
   "metadata": {},
   "outputs": [
    {
     "name": "stdout",
     "output_type": "stream",
     "text": [
      "order_item_id:  66162\n",
      "item_id:  1850\n",
      "brand_id:  134\n",
      "item_price:  238\n",
      "user_id:  15627\n",
      "user_state:  16\n",
      "return:  2\n"
     ]
    }
   ],
   "source": [
    "# checking cardinality of numerical features\n",
    "for item in numerical_feats:\n",
    "    print(f\"{item}: \", df[item].nunique())"
   ]
  },
  {
   "cell_type": "markdown",
   "id": "84ee7e0d",
   "metadata": {},
   "source": [
    "Due to low cardinality, we can convert 'user_state' into a categorical feature. Also, since 'return' is our target feature, it should be converted to categorical type."
   ]
  },
  {
   "cell_type": "code",
   "execution_count": 19,
   "id": "aa76f9f4",
   "metadata": {},
   "outputs": [],
   "source": [
    "# converting 'user_state', 'return' to 'category' type\n",
    "for item in ['user_state', 'return']:\n",
    "    df[item] = df[item].astype('category')"
   ]
  },
  {
   "cell_type": "code",
   "execution_count": 20,
   "id": "c9b1f624",
   "metadata": {},
   "outputs": [],
   "source": [
    "# removing the converted features from numerical feature list and adding to categorical feature list\n",
    "for item in ['user_state', 'return']:\n",
    "    numerical_feats.remove(item)\n",
    "    categorical_feats.append(item)"
   ]
  },
  {
   "cell_type": "code",
   "execution_count": 21,
   "id": "b5f3d61e",
   "metadata": {},
   "outputs": [
    {
     "data": {
      "text/plain": [
       "['order_item_id', 'item_id', 'brand_id', 'item_price', 'user_id']"
      ]
     },
     "execution_count": 21,
     "metadata": {},
     "output_type": "execute_result"
    }
   ],
   "source": [
    "numerical_feats"
   ]
  },
  {
   "cell_type": "code",
   "execution_count": 22,
   "id": "5682c60b",
   "metadata": {},
   "outputs": [
    {
     "data": {
      "text/html": [
       "<div>\n",
       "<style scoped>\n",
       "    .dataframe tbody tr th:only-of-type {\n",
       "        vertical-align: middle;\n",
       "    }\n",
       "\n",
       "    .dataframe tbody tr th {\n",
       "        vertical-align: top;\n",
       "    }\n",
       "\n",
       "    .dataframe thead th {\n",
       "        text-align: right;\n",
       "    }\n",
       "</style>\n",
       "<table border=\"1\" class=\"dataframe\">\n",
       "  <thead>\n",
       "    <tr style=\"text-align: right;\">\n",
       "      <th></th>\n",
       "      <th>order_item_id</th>\n",
       "      <th>item_id</th>\n",
       "      <th>brand_id</th>\n",
       "      <th>item_price</th>\n",
       "      <th>user_id</th>\n",
       "    </tr>\n",
       "  </thead>\n",
       "  <tbody>\n",
       "    <tr>\n",
       "      <th>count</th>\n",
       "      <td>66162.000000</td>\n",
       "      <td>66162.000000</td>\n",
       "      <td>66162.000000</td>\n",
       "      <td>66162.000000</td>\n",
       "      <td>66162.000000</td>\n",
       "    </tr>\n",
       "    <tr>\n",
       "      <th>mean</th>\n",
       "      <td>51230.005985</td>\n",
       "      <td>950.998322</td>\n",
       "      <td>30.502101</td>\n",
       "      <td>65.426510</td>\n",
       "      <td>26846.203485</td>\n",
       "    </tr>\n",
       "    <tr>\n",
       "      <th>std</th>\n",
       "      <td>28611.894361</td>\n",
       "      <td>701.178110</td>\n",
       "      <td>28.479793</td>\n",
       "      <td>47.956227</td>\n",
       "      <td>14168.124977</td>\n",
       "    </tr>\n",
       "    <tr>\n",
       "      <th>min</th>\n",
       "      <td>1.000000</td>\n",
       "      <td>1.000000</td>\n",
       "      <td>1.000000</td>\n",
       "      <td>0.000000</td>\n",
       "      <td>9.000000</td>\n",
       "    </tr>\n",
       "    <tr>\n",
       "      <th>25%</th>\n",
       "      <td>26950.250000</td>\n",
       "      <td>223.000000</td>\n",
       "      <td>5.000000</td>\n",
       "      <td>29.900000</td>\n",
       "      <td>14430.000000</td>\n",
       "    </tr>\n",
       "    <tr>\n",
       "      <th>50%</th>\n",
       "      <td>51733.500000</td>\n",
       "      <td>927.000000</td>\n",
       "      <td>25.000000</td>\n",
       "      <td>49.900000</td>\n",
       "      <td>30854.500000</td>\n",
       "    </tr>\n",
       "    <tr>\n",
       "      <th>75%</th>\n",
       "      <td>75941.750000</td>\n",
       "      <td>1599.000000</td>\n",
       "      <td>44.000000</td>\n",
       "      <td>79.900000</td>\n",
       "      <td>38881.000000</td>\n",
       "    </tr>\n",
       "    <tr>\n",
       "      <th>max</th>\n",
       "      <td>100000.000000</td>\n",
       "      <td>2241.000000</td>\n",
       "      <td>138.000000</td>\n",
       "      <td>999.000000</td>\n",
       "      <td>48241.000000</td>\n",
       "    </tr>\n",
       "  </tbody>\n",
       "</table>\n",
       "</div>"
      ],
      "text/plain": [
       "       order_item_id       item_id      brand_id    item_price       user_id\n",
       "count   66162.000000  66162.000000  66162.000000  66162.000000  66162.000000\n",
       "mean    51230.005985    950.998322     30.502101     65.426510  26846.203485\n",
       "std     28611.894361    701.178110     28.479793     47.956227  14168.124977\n",
       "min         1.000000      1.000000      1.000000      0.000000      9.000000\n",
       "25%     26950.250000    223.000000      5.000000     29.900000  14430.000000\n",
       "50%     51733.500000    927.000000     25.000000     49.900000  30854.500000\n",
       "75%     75941.750000   1599.000000     44.000000     79.900000  38881.000000\n",
       "max    100000.000000   2241.000000    138.000000    999.000000  48241.000000"
      ]
     },
     "execution_count": 22,
     "metadata": {},
     "output_type": "execute_result"
    }
   ],
   "source": [
    "# exploring numerical features\n",
    "num_df = df[numerical_feats]\n",
    "num_df.describe()"
   ]
  },
  {
   "cell_type": "markdown",
   "id": "4c219a4c",
   "metadata": {},
   "source": [
    "Mean price of items ordered were around 65 with maximum upto 999."
   ]
  },
  {
   "cell_type": "code",
   "execution_count": 23,
   "id": "6659288d",
   "metadata": {},
   "outputs": [
    {
     "data": {
      "text/html": [
       "<div>\n",
       "<style scoped>\n",
       "    .dataframe tbody tr th:only-of-type {\n",
       "        vertical-align: middle;\n",
       "    }\n",
       "\n",
       "    .dataframe tbody tr th {\n",
       "        vertical-align: top;\n",
       "    }\n",
       "\n",
       "    .dataframe thead th {\n",
       "        text-align: right;\n",
       "    }\n",
       "</style>\n",
       "<table border=\"1\" class=\"dataframe\">\n",
       "  <thead>\n",
       "    <tr style=\"text-align: right;\">\n",
       "      <th></th>\n",
       "      <th>item_size</th>\n",
       "      <th>item_color</th>\n",
       "      <th>user_title</th>\n",
       "      <th>user_state</th>\n",
       "      <th>return</th>\n",
       "    </tr>\n",
       "  </thead>\n",
       "  <tbody>\n",
       "    <tr>\n",
       "      <th>count</th>\n",
       "      <td>66162</td>\n",
       "      <td>66162</td>\n",
       "      <td>66162</td>\n",
       "      <td>66162</td>\n",
       "      <td>66162</td>\n",
       "    </tr>\n",
       "    <tr>\n",
       "      <th>unique</th>\n",
       "      <td>100</td>\n",
       "      <td>77</td>\n",
       "      <td>5</td>\n",
       "      <td>16</td>\n",
       "      <td>2</td>\n",
       "    </tr>\n",
       "    <tr>\n",
       "      <th>top</th>\n",
       "      <td>l</td>\n",
       "      <td>black</td>\n",
       "      <td>Mrs</td>\n",
       "      <td>1010</td>\n",
       "      <td>1</td>\n",
       "    </tr>\n",
       "    <tr>\n",
       "      <th>freq</th>\n",
       "      <td>8214</td>\n",
       "      <td>12416</td>\n",
       "      <td>63486</td>\n",
       "      <td>15127</td>\n",
       "      <td>33488</td>\n",
       "    </tr>\n",
       "  </tbody>\n",
       "</table>\n",
       "</div>"
      ],
      "text/plain": [
       "       item_size item_color user_title  user_state  return\n",
       "count      66162      66162      66162       66162   66162\n",
       "unique       100         77          5          16       2\n",
       "top            l      black        Mrs        1010       1\n",
       "freq        8214      12416      63486       15127   33488"
      ]
     },
     "execution_count": 23,
     "metadata": {},
     "output_type": "execute_result"
    }
   ],
   "source": [
    "# exploring categorical features\n",
    "cat_df = df[categorical_feats]\n",
    "cat_df.describe()"
   ]
  },
  {
   "cell_type": "code",
   "execution_count": 24,
   "id": "4540678f",
   "metadata": {},
   "outputs": [
    {
     "data": {
      "text/html": [
       "<div>\n",
       "<style scoped>\n",
       "    .dataframe tbody tr th:only-of-type {\n",
       "        vertical-align: middle;\n",
       "    }\n",
       "\n",
       "    .dataframe tbody tr th {\n",
       "        vertical-align: top;\n",
       "    }\n",
       "\n",
       "    .dataframe thead th {\n",
       "        text-align: right;\n",
       "    }\n",
       "</style>\n",
       "<table border=\"1\" class=\"dataframe\">\n",
       "  <thead>\n",
       "    <tr style=\"text-align: right;\">\n",
       "      <th></th>\n",
       "      <th>order_date</th>\n",
       "      <th>delivery_date</th>\n",
       "      <th>user_dob</th>\n",
       "      <th>user_reg_date</th>\n",
       "    </tr>\n",
       "  </thead>\n",
       "  <tbody>\n",
       "    <tr>\n",
       "      <th>count</th>\n",
       "      <td>66162</td>\n",
       "      <td>66162</td>\n",
       "      <td>66162</td>\n",
       "      <td>66162</td>\n",
       "    </tr>\n",
       "    <tr>\n",
       "      <th>unique</th>\n",
       "      <td>82</td>\n",
       "      <td>122</td>\n",
       "      <td>8810</td>\n",
       "      <td>572</td>\n",
       "    </tr>\n",
       "    <tr>\n",
       "      <th>top</th>\n",
       "      <td>2016-06-27 00:00:00</td>\n",
       "      <td>2016-03-07 00:00:00</td>\n",
       "      <td>1900-11-21 00:00:00</td>\n",
       "      <td>2015-02-17 00:00:00</td>\n",
       "    </tr>\n",
       "    <tr>\n",
       "      <th>freq</th>\n",
       "      <td>3413</td>\n",
       "      <td>3808</td>\n",
       "      <td>663</td>\n",
       "      <td>23958</td>\n",
       "    </tr>\n",
       "    <tr>\n",
       "      <th>first</th>\n",
       "      <td>2016-01-07 00:00:00</td>\n",
       "      <td>1994-12-31 00:00:00</td>\n",
       "      <td>1900-04-12 00:00:00</td>\n",
       "      <td>2015-01-03 00:00:00</td>\n",
       "    </tr>\n",
       "    <tr>\n",
       "      <th>last</th>\n",
       "      <td>2016-12-08 00:00:00</td>\n",
       "      <td>2017-01-24 00:00:00</td>\n",
       "      <td>2011-10-02 00:00:00</td>\n",
       "      <td>2016-12-09 00:00:00</td>\n",
       "    </tr>\n",
       "  </tbody>\n",
       "</table>\n",
       "</div>"
      ],
      "text/plain": [
       "                 order_date        delivery_date             user_dob  \\\n",
       "count                 66162                66162                66162   \n",
       "unique                   82                  122                 8810   \n",
       "top     2016-06-27 00:00:00  2016-03-07 00:00:00  1900-11-21 00:00:00   \n",
       "freq                   3413                 3808                  663   \n",
       "first   2016-01-07 00:00:00  1994-12-31 00:00:00  1900-04-12 00:00:00   \n",
       "last    2016-12-08 00:00:00  2017-01-24 00:00:00  2011-10-02 00:00:00   \n",
       "\n",
       "              user_reg_date  \n",
       "count                 66162  \n",
       "unique                  572  \n",
       "top     2015-02-17 00:00:00  \n",
       "freq                  23958  \n",
       "first   2015-01-03 00:00:00  \n",
       "last    2016-12-09 00:00:00  "
      ]
     },
     "execution_count": 24,
     "metadata": {},
     "output_type": "execute_result"
    }
   ],
   "source": [
    "# exploring datetime features\n",
    "date_df = df[datetime_feats]\n",
    "date_df.describe()"
   ]
  },
  {
   "cell_type": "markdown",
   "id": "328aa86b",
   "metadata": {},
   "source": [
    "### Numerical features"
   ]
  },
  {
   "cell_type": "code",
   "execution_count": 25,
   "id": "40f8ca79",
   "metadata": {},
   "outputs": [
    {
     "data": {
      "image/png": "[encoded data removed]",
      "text/plain": [
       "<Figure size 1296x216 with 5 Axes>"
      ]
     },
     "metadata": {
      "needs_background": "light"
     },
     "output_type": "display_data"
    }
   ],
   "source": [
    "# plotting numerical features\n",
    "num_df.hist(layout=(1,5), figsize=(18,3), grid=False);"
   ]
  },
  {
   "cell_type": "code",
   "execution_count": 26,
   "id": "6cfdcbe1",
   "metadata": {
    "scrolled": true
   },
   "outputs": [
    {
     "data": {
      "image/png": "[encoded data removed]",
      "text/plain": [
       "<Figure size 936x576 with 5 Axes>"
      ]
     },
     "metadata": {
      "needs_background": "light"
     },
     "output_type": "display_data"
    }
   ],
   "source": [
    "# distribution of numerical features across target\n",
    "plt.figure(figsize=(13,8))\n",
    "plotnumber=1\n",
    "\n",
    "for col in num_df:\n",
    "    if plotnumber <= num_df.shape[1]:\n",
    "        ax = plt.subplot(2,3,plotnumber)\n",
    "        sns.boxenplot(y=num_df[col], x=cat_df['return'], palette=['mediumseagreen', 'tomato'])\n",
    "        plt.xlabel(' ')\n",
    "        plt.ylabel(' ')\n",
    "        plt.title(col, pad=10)\n",
    "        plt.xticks()\n",
    "    plotnumber +=1\n",
    "plt.tight_layout()"
   ]
  },
  {
   "cell_type": "markdown",
   "id": "93047f36",
   "metadata": {},
   "source": [
    "'brand_id' and 'item_price' looks right skewed. lets check the skewness and see if log transform can create a better skewed feature."
   ]
  },
  {
   "cell_type": "code",
   "execution_count": 27,
   "id": "5aec1a31",
   "metadata": {},
   "outputs": [
    {
     "data": {
      "text/plain": [
       "brand_id      1.244636\n",
       "item_price    1.790672\n",
       "dtype: float64"
      ]
     },
     "execution_count": 27,
     "metadata": {},
     "output_type": "execute_result"
    }
   ],
   "source": [
    "# checking skewness\n",
    "num_df[['brand_id', 'item_price']].skew()"
   ]
  },
  {
   "cell_type": "code",
   "execution_count": 28,
   "id": "b96bf732",
   "metadata": {},
   "outputs": [],
   "source": [
    "# checking if log transform works\n",
    "num_df_1 = num_df.copy()  # creating a copy of num_df\n",
    "for feat in ['brand_id', 'item_price']:\n",
    "    num_df_1[feat] = np.log1p(num_df_1[feat])"
   ]
  },
  {
   "cell_type": "code",
   "execution_count": 29,
   "id": "0426beeb",
   "metadata": {},
   "outputs": [
    {
     "data": {
      "image/png": "[encoded data removed]",
      "text/plain": [
       "<Figure size 720x288 with 2 Axes>"
      ]
     },
     "metadata": {
      "needs_background": "light"
     },
     "output_type": "display_data"
    }
   ],
   "source": [
    "num_df_1[['brand_id', 'item_price']].hist(figsize=(10,4));"
   ]
  },
  {
   "cell_type": "code",
   "execution_count": 30,
   "id": "d8e95dec",
   "metadata": {},
   "outputs": [],
   "source": [
    "# applying log transform\n",
    "for feat in ['brand_id', 'item_price']:\n",
    "    num_df[feat] = np.log1p(num_df[feat])"
   ]
  },
  {
   "cell_type": "markdown",
   "id": "754e0271",
   "metadata": {},
   "source": [
    "### Categorical features"
   ]
  },
  {
   "cell_type": "code",
   "execution_count": 31,
   "id": "80f3a3ff",
   "metadata": {},
   "outputs": [],
   "source": [
    "# converting all features in cat_df to 'category'\n",
    "for col in cat_df.columns:\n",
    "    cat_df[col] = cat_df[col].astype('category')"
   ]
  },
  {
   "cell_type": "code",
   "execution_count": 32,
   "id": "2c4b94ad",
   "metadata": {},
   "outputs": [
    {
     "data": {
      "image/png": "[encoded data removed]",
      "text/plain": [
       "<Figure size 1008x576 with 3 Axes>"
      ]
     },
     "metadata": {
      "needs_background": "light"
     },
     "output_type": "display_data"
    }
   ],
   "source": [
    "# plotting categorical features\n",
    "\n",
    "plt.figure(figsize=(14,8))\n",
    "plotnumber=1\n",
    "\n",
    "for col in cat_df.drop(['item_size', 'item_color'], axis=1):\n",
    "    if plotnumber <= cat_df.shape[1]:\n",
    "        ax = plt.subplot(2,3,plotnumber)\n",
    "        sns.countplot(cat_df[col])\n",
    "        plt.xticks(rotation=45)\n",
    "    plotnumber +=1\n",
    "plt.tight_layout()"
   ]
  },
  {
   "cell_type": "markdown",
   "id": "40077b92",
   "metadata": {},
   "source": [
    "'user_title' is highly imbalanced. Checking if there is any relation with 'return'. If not found, we'll drop the feature."
   ]
  },
  {
   "cell_type": "code",
   "execution_count": 33,
   "id": "7dd2fe4a",
   "metadata": {},
   "outputs": [
    {
     "data": {
      "image/png": "[encoded data removed]",
      "text/plain": [
       "<Figure size 691.2x288 with 2 Axes>"
      ]
     },
     "metadata": {
      "needs_background": "light"
     },
     "output_type": "display_data"
    }
   ],
   "source": [
    "# checking relationship between user_title and return\n",
    "g = sns.FacetGrid(data=cat_df, col='return', height=4, aspect=1.2, sharey=False)\n",
    "g.map(sns.countplot, 'user_title')\n",
    "plt.show()"
   ]
  },
  {
   "cell_type": "code",
   "execution_count": 34,
   "id": "e3f6bffb",
   "metadata": {},
   "outputs": [],
   "source": [
    "# dropping 'user_title'\n",
    "cat_df.drop('user_title', axis=1, inplace=True)"
   ]
  },
  {
   "cell_type": "code",
   "execution_count": 35,
   "id": "97448a62",
   "metadata": {
    "scrolled": true
   },
   "outputs": [
    {
     "data": {
      "image/png": "[encoded data removed]",
      "text/plain": [
       "<Figure size 720x2160 with 1 Axes>"
      ]
     },
     "metadata": {
      "needs_background": "light"
     },
     "output_type": "display_data"
    }
   ],
   "source": [
    "# plotting item_size\n",
    "plt.figure(figsize=(10,30))\n",
    "sns.countplot(y=cat_df['item_size'], order=cat_df['item_size'].value_counts().index)\n",
    "plt.ylabel(' ')\n",
    "plt.xlabel(col)\n",
    "plt.show()"
   ]
  },
  {
   "cell_type": "code",
   "execution_count": 36,
   "id": "014dab2c",
   "metadata": {},
   "outputs": [],
   "source": [
    "# mapping 'item_size'class values\n",
    "cat_df['item_size'] = np.where(cat_df['item_size']=='s', '39', \n",
    "                               np.where(cat_df['item_size']=='m', '40',\n",
    "                                       np.where(cat_df['item_size']=='l', '42',\n",
    "                                               np.where(cat_df['item_size']=='xl', '45',\n",
    "                                                        np.where(cat_df['item_size']=='xxl', '48',\n",
    "                                                                 np.where(cat_df['item_size']=='xxxl', '50',cat_df['item_size']\n",
    "                                                       ))))))"
   ]
  },
  {
   "cell_type": "code",
   "execution_count": 37,
   "id": "0b8e1759",
   "metadata": {
    "scrolled": true
   },
   "outputs": [
    {
     "data": {
      "image/png": "[encoded data removed]",
      "text/plain": [
       "<Figure size 720x2160 with 1 Axes>"
      ]
     },
     "metadata": {
      "needs_background": "light"
     },
     "output_type": "display_data"
    }
   ],
   "source": [
    "# plotting composition of 'item_size'\n",
    "plt.figure(figsize=(10,30))\n",
    "sns.countplot(y=cat_df['item_size'], order=cat_df['item_size'].value_counts().index)\n",
    "plt.ylabel(' ')\n",
    "plt.xlabel(col)\n",
    "plt.show()"
   ]
  },
  {
   "cell_type": "code",
   "execution_count": 38,
   "id": "a82f8f7b",
   "metadata": {},
   "outputs": [],
   "source": [
    "# re-arranging classes in 'item_size'\n",
    "cat_df['item_size'] = np.where(cat_df['item_size'].isin(['21','22','23','24','25','26','27','28','29','30',\n",
    "                                                     '31','32','33','34','35','36','37','38','39','40',\n",
    "                                                     '41','42','43','44','45','46','47','48','49','50', 'unsized']), \n",
    "                             cat_df['item_size'], 'unsized')"
   ]
  },
  {
   "cell_type": "code",
   "execution_count": 39,
   "id": "29eab8fc",
   "metadata": {},
   "outputs": [],
   "source": [
    "cat_df['item_size'] = np.where(cat_df['item_size'].isin(['21','22','23','24','25','26','27','28','29','30',\n",
    "                                                     '31','32','33']), 'kids', cat_df['item_size'])"
   ]
  },
  {
   "cell_type": "code",
   "execution_count": 40,
   "id": "83b4a8b2",
   "metadata": {},
   "outputs": [],
   "source": [
    "cat_df['item_size'] = np.where(cat_df['item_size'].isin(['34','35','36']), 'small',\n",
    "                             np.where(cat_df['item_size'].isin(['37','38','39']), 'medium',\n",
    "                                      np.where(cat_df['item_size'].isin(['40','41','42']), 'large',\n",
    "                                               np.where(cat_df['item_size'].isin(['43','44','45','46','47', '48','49','50']), 'extra large',\n",
    "                                                        cat_df['item_size']))))"
   ]
  },
  {
   "cell_type": "code",
   "execution_count": 41,
   "id": "85aa1300",
   "metadata": {},
   "outputs": [],
   "source": [
    "cat_df['item_size'] = np.where(cat_df['item_size']=='kids', 'small', cat_df['item_size'])"
   ]
  },
  {
   "cell_type": "code",
   "execution_count": 42,
   "id": "12205239",
   "metadata": {},
   "outputs": [
    {
     "data": {
      "image/png": "[encoded data removed]",
      "text/plain": [
       "<Figure size 432x360 with 1 Axes>"
      ]
     },
     "metadata": {
      "needs_background": "light"
     },
     "output_type": "display_data"
    }
   ],
   "source": [
    "# plotting 'item_size'\n",
    "plt.figure(figsize=(6,5))\n",
    "sns.countplot(y=cat_df['item_size'], order=cat_df['item_size'].value_counts().index)\n",
    "plt.ylabel(' ')\n",
    "plt.xlabel(col)\n",
    "plt.show()"
   ]
  },
  {
   "cell_type": "code",
   "execution_count": 43,
   "id": "64d64438",
   "metadata": {
    "scrolled": true
   },
   "outputs": [
    {
     "data": {
      "image/png": "[encoded data removed]",
      "text/plain": [
       "<Figure size 720x2160 with 1 Axes>"
      ]
     },
     "metadata": {
      "needs_background": "light"
     },
     "output_type": "display_data"
    }
   ],
   "source": [
    "# plotting 'item_color'\n",
    "plt.figure(figsize=(10,30))\n",
    "sns.countplot(y=cat_df['item_color'], order=cat_df['item_color'].value_counts().index)\n",
    "plt.ylabel(' ')\n",
    "plt.xlabel(col)\n",
    "plt.show()"
   ]
  },
  {
   "cell_type": "code",
   "execution_count": 44,
   "id": "63af9cdb",
   "metadata": {},
   "outputs": [],
   "source": [
    "# rearranging classes in 'item_color'\n",
    "cat_df['item_color'] = np.where(cat_df['item_color'].isin(['yellow','orange','red','violet','blue','green']), 'primary', cat_df['item_color'])"
   ]
  },
  {
   "cell_type": "code",
   "execution_count": 45,
   "id": "afa99331",
   "metadata": {},
   "outputs": [],
   "source": [
    "cat_df['item_color'] = np.where(cat_df['item_color'].isin(['black','grey','white']), 'black & white', cat_df['item_color'])"
   ]
  },
  {
   "cell_type": "code",
   "execution_count": 46,
   "id": "b63f0331",
   "metadata": {},
   "outputs": [],
   "source": [
    "cat_df['item_color'] = np.where(cat_df['item_color'].isin(['black & white', 'primary']), cat_df['item_color'], 'others')"
   ]
  },
  {
   "cell_type": "code",
   "execution_count": 47,
   "id": "9a9018bb",
   "metadata": {},
   "outputs": [
    {
     "data": {
      "image/png": "[encoded data removed]",
      "text/plain": [
       "<Figure size 504x288 with 1 Axes>"
      ]
     },
     "metadata": {
      "needs_background": "light"
     },
     "output_type": "display_data"
    }
   ],
   "source": [
    "# plotting 'item_color'\n",
    "plt.figure(figsize=(7,4))\n",
    "sns.countplot(x=cat_df['item_color'])\n",
    "plt.ylabel(' ')\n",
    "plt.xlabel(col)\n",
    "plt.show()"
   ]
  },
  {
   "cell_type": "code",
   "execution_count": 48,
   "id": "07d60731",
   "metadata": {},
   "outputs": [],
   "source": [
    "# defining a function for frequency encoding\n",
    "def frequency_encoding(df,feats):\n",
    "    for feat in feats:\n",
    "        indx = (df.groupby(feat).size()/cat_df.shape[0]).index\n",
    "        vals = (df.groupby(feat).size()/cat_df.shape[0]).values\n",
    "        maps = dict()\n",
    "        for i,v in list(zip(indx,vals)):\n",
    "            maps[i]=v\n",
    "        df[feat] = df[feat].map(maps) "
   ]
  },
  {
   "cell_type": "code",
   "execution_count": 49,
   "id": "1fe8b160",
   "metadata": {},
   "outputs": [],
   "source": [
    "# frequency encoding 'user_state', 'item_color'\n",
    "frequency_encoding(cat_df, ['user_state', 'item_color'])"
   ]
  },
  {
   "cell_type": "code",
   "execution_count": 50,
   "id": "09e45b25",
   "metadata": {},
   "outputs": [
    {
     "data": {
      "text/html": [
       "<div>\n",
       "<style scoped>\n",
       "    .dataframe tbody tr th:only-of-type {\n",
       "        vertical-align: middle;\n",
       "    }\n",
       "\n",
       "    .dataframe tbody tr th {\n",
       "        vertical-align: top;\n",
       "    }\n",
       "\n",
       "    .dataframe thead th {\n",
       "        text-align: right;\n",
       "    }\n",
       "</style>\n",
       "<table border=\"1\" class=\"dataframe\">\n",
       "  <thead>\n",
       "    <tr style=\"text-align: right;\">\n",
       "      <th></th>\n",
       "      <th>item_size</th>\n",
       "      <th>item_color</th>\n",
       "      <th>user_state</th>\n",
       "      <th>return</th>\n",
       "    </tr>\n",
       "  </thead>\n",
       "  <tbody>\n",
       "    <tr>\n",
       "      <th>0</th>\n",
       "      <td>medium</td>\n",
       "      <td>0.447024</td>\n",
       "      <td>0.032027</td>\n",
       "      <td>0</td>\n",
       "    </tr>\n",
       "    <tr>\n",
       "      <th>1</th>\n",
       "      <td>extra large</td>\n",
       "      <td>0.308168</td>\n",
       "      <td>0.118739</td>\n",
       "      <td>1</td>\n",
       "    </tr>\n",
       "    <tr>\n",
       "      <th>2</th>\n",
       "      <td>extra large</td>\n",
       "      <td>0.308168</td>\n",
       "      <td>0.118739</td>\n",
       "      <td>0</td>\n",
       "    </tr>\n",
       "    <tr>\n",
       "      <th>3</th>\n",
       "      <td>large</td>\n",
       "      <td>0.447024</td>\n",
       "      <td>0.032027</td>\n",
       "      <td>0</td>\n",
       "    </tr>\n",
       "    <tr>\n",
       "      <th>5</th>\n",
       "      <td>large</td>\n",
       "      <td>0.447024</td>\n",
       "      <td>0.150177</td>\n",
       "      <td>1</td>\n",
       "    </tr>\n",
       "  </tbody>\n",
       "</table>\n",
       "</div>"
      ],
      "text/plain": [
       "     item_size  item_color user_state return\n",
       "0       medium    0.447024   0.032027      0\n",
       "1  extra large    0.308168   0.118739      1\n",
       "2  extra large    0.308168   0.118739      0\n",
       "3        large    0.447024   0.032027      0\n",
       "5        large    0.447024   0.150177      1"
      ]
     },
     "execution_count": 50,
     "metadata": {},
     "output_type": "execute_result"
    }
   ],
   "source": [
    "cat_df.head()"
   ]
  },
  {
   "cell_type": "code",
   "execution_count": 51,
   "id": "9bb13a73",
   "metadata": {},
   "outputs": [
    {
     "name": "stdout",
     "output_type": "stream",
     "text": [
      "<class 'pandas.core.frame.DataFrame'>\n",
      "Int64Index: 66162 entries, 0 to 79944\n",
      "Data columns (total 4 columns):\n",
      " #   Column      Non-Null Count  Dtype   \n",
      "---  ------      --------------  -----   \n",
      " 0   item_size   66162 non-null  object  \n",
      " 1   item_color  66162 non-null  float64 \n",
      " 2   user_state  66162 non-null  category\n",
      " 3   return      66162 non-null  category\n",
      "dtypes: category(2), float64(1), object(1)\n",
      "memory usage: 3.7+ MB\n"
     ]
    }
   ],
   "source": [
    "cat_df.info()"
   ]
  },
  {
   "cell_type": "code",
   "execution_count": 52,
   "id": "268cdcb8",
   "metadata": {},
   "outputs": [],
   "source": [
    "# converting 'user_state' to float and 'return' to int\n",
    "cat_df['user_state'] = cat_df['user_state'].astype('float')\n",
    "cat_df['return'] = cat_df['return'].astype('int')"
   ]
  },
  {
   "cell_type": "code",
   "execution_count": 53,
   "id": "99266c73",
   "metadata": {},
   "outputs": [
    {
     "data": {
      "text/html": [
       "<div>\n",
       "<style scoped>\n",
       "    .dataframe tbody tr th:only-of-type {\n",
       "        vertical-align: middle;\n",
       "    }\n",
       "\n",
       "    .dataframe tbody tr th {\n",
       "        vertical-align: top;\n",
       "    }\n",
       "\n",
       "    .dataframe thead th {\n",
       "        text-align: right;\n",
       "    }\n",
       "</style>\n",
       "<table border=\"1\" class=\"dataframe\">\n",
       "  <thead>\n",
       "    <tr style=\"text-align: right;\">\n",
       "      <th></th>\n",
       "      <th>order_item_id</th>\n",
       "      <th>item_id</th>\n",
       "      <th>brand_id</th>\n",
       "      <th>item_price</th>\n",
       "      <th>user_id</th>\n",
       "      <th>item_size</th>\n",
       "      <th>item_color</th>\n",
       "      <th>user_state</th>\n",
       "      <th>return</th>\n",
       "    </tr>\n",
       "  </thead>\n",
       "  <tbody>\n",
       "    <tr>\n",
       "      <th>0</th>\n",
       "      <td>1</td>\n",
       "      <td>643</td>\n",
       "      <td>3.433987</td>\n",
       "      <td>3.929863</td>\n",
       "      <td>30822</td>\n",
       "      <td>medium</td>\n",
       "      <td>0.447024</td>\n",
       "      <td>0.032027</td>\n",
       "      <td>0</td>\n",
       "    </tr>\n",
       "    <tr>\n",
       "      <th>1</th>\n",
       "      <td>10</td>\n",
       "      <td>195</td>\n",
       "      <td>3.850148</td>\n",
       "      <td>3.039749</td>\n",
       "      <td>30823</td>\n",
       "      <td>extra large</td>\n",
       "      <td>0.308168</td>\n",
       "      <td>0.118739</td>\n",
       "      <td>1</td>\n",
       "    </tr>\n",
       "    <tr>\n",
       "      <th>2</th>\n",
       "      <td>11</td>\n",
       "      <td>25</td>\n",
       "      <td>1.791759</td>\n",
       "      <td>4.393214</td>\n",
       "      <td>30823</td>\n",
       "      <td>extra large</td>\n",
       "      <td>0.308168</td>\n",
       "      <td>0.118739</td>\n",
       "      <td>0</td>\n",
       "    </tr>\n",
       "    <tr>\n",
       "      <th>3</th>\n",
       "      <td>32</td>\n",
       "      <td>173</td>\n",
       "      <td>3.044522</td>\n",
       "      <td>3.039749</td>\n",
       "      <td>17234</td>\n",
       "      <td>large</td>\n",
       "      <td>0.447024</td>\n",
       "      <td>0.032027</td>\n",
       "      <td>0</td>\n",
       "    </tr>\n",
       "    <tr>\n",
       "      <th>5</th>\n",
       "      <td>45</td>\n",
       "      <td>448</td>\n",
       "      <td>4.290459</td>\n",
       "      <td>4.109233</td>\n",
       "      <td>30828</td>\n",
       "      <td>large</td>\n",
       "      <td>0.447024</td>\n",
       "      <td>0.150177</td>\n",
       "      <td>1</td>\n",
       "    </tr>\n",
       "  </tbody>\n",
       "</table>\n",
       "</div>"
      ],
      "text/plain": [
       "   order_item_id  item_id  brand_id  item_price  user_id    item_size  \\\n",
       "0              1      643  3.433987    3.929863    30822       medium   \n",
       "1             10      195  3.850148    3.039749    30823  extra large   \n",
       "2             11       25  1.791759    4.393214    30823  extra large   \n",
       "3             32      173  3.044522    3.039749    17234        large   \n",
       "5             45      448  4.290459    4.109233    30828        large   \n",
       "\n",
       "   item_color  user_state  return  \n",
       "0    0.447024    0.032027       0  \n",
       "1    0.308168    0.118739       1  \n",
       "2    0.308168    0.118739       0  \n",
       "3    0.447024    0.032027       0  \n",
       "5    0.447024    0.150177       1  "
      ]
     },
     "execution_count": 53,
     "metadata": {},
     "output_type": "execute_result"
    }
   ],
   "source": [
    "# concatenating num_df and cat_df\n",
    "new_df = pd.concat([num_df, cat_df], axis=1)\n",
    "new_df.head()"
   ]
  },
  {
   "cell_type": "markdown",
   "id": "087bedb8",
   "metadata": {},
   "source": [
    "### Datetime features"
   ]
  },
  {
   "cell_type": "code",
   "execution_count": 54,
   "id": "d7874743",
   "metadata": {},
   "outputs": [],
   "source": [
    "# converting datetime features to datetime\n",
    "for feat in ['order_date', 'delivery_date', 'user_dob', 'user_reg_date']:\n",
    "    date_df[feat] = pd.to_datetime(date_df[feat])"
   ]
  },
  {
   "cell_type": "markdown",
   "id": "e2ba9a31",
   "metadata": {},
   "source": [
    "Creating 2 new features 'delivery_time' and 'user_age' using datetime features."
   ]
  },
  {
   "cell_type": "code",
   "execution_count": 55,
   "id": "efc0da6e",
   "metadata": {},
   "outputs": [],
   "source": [
    "date_df['delivery_time'] = np.abs(date_df['delivery_date'] - date_df['order_date'])\n",
    "date_df['user_age'] = np.abs(date_df['user_reg_date'] - date_df['user_dob'])"
   ]
  },
  {
   "cell_type": "code",
   "execution_count": 56,
   "id": "f0f90d93",
   "metadata": {},
   "outputs": [
    {
     "data": {
      "text/html": [
       "<div>\n",
       "<style scoped>\n",
       "    .dataframe tbody tr th:only-of-type {\n",
       "        vertical-align: middle;\n",
       "    }\n",
       "\n",
       "    .dataframe tbody tr th {\n",
       "        vertical-align: top;\n",
       "    }\n",
       "\n",
       "    .dataframe thead th {\n",
       "        text-align: right;\n",
       "    }\n",
       "</style>\n",
       "<table border=\"1\" class=\"dataframe\">\n",
       "  <thead>\n",
       "    <tr style=\"text-align: right;\">\n",
       "      <th></th>\n",
       "      <th>delivery_time</th>\n",
       "      <th>user_age</th>\n",
       "    </tr>\n",
       "  </thead>\n",
       "  <tbody>\n",
       "    <tr>\n",
       "      <th>0</th>\n",
       "      <td>5 days</td>\n",
       "      <td>17234 days</td>\n",
       "    </tr>\n",
       "    <tr>\n",
       "      <th>1</th>\n",
       "      <td>5 days</td>\n",
       "      <td>16398 days</td>\n",
       "    </tr>\n",
       "    <tr>\n",
       "      <th>2</th>\n",
       "      <td>46 days</td>\n",
       "      <td>16398 days</td>\n",
       "    </tr>\n",
       "    <tr>\n",
       "      <th>3</th>\n",
       "      <td>3 days</td>\n",
       "      <td>19892 days</td>\n",
       "    </tr>\n",
       "    <tr>\n",
       "      <th>5</th>\n",
       "      <td>3 days</td>\n",
       "      <td>18150 days</td>\n",
       "    </tr>\n",
       "  </tbody>\n",
       "</table>\n",
       "</div>"
      ],
      "text/plain": [
       "  delivery_time   user_age\n",
       "0        5 days 17234 days\n",
       "1        5 days 16398 days\n",
       "2       46 days 16398 days\n",
       "3        3 days 19892 days\n",
       "5        3 days 18150 days"
      ]
     },
     "execution_count": 56,
     "metadata": {},
     "output_type": "execute_result"
    }
   ],
   "source": [
    "# dropping 'order_date', 'delivery_date', 'user_dob', 'user_reg_date'\n",
    "date_df.drop(['order_date', 'delivery_date', 'user_dob', 'user_reg_date'], axis=1, inplace=True)\n",
    "date_df.head()"
   ]
  },
  {
   "cell_type": "code",
   "execution_count": 57,
   "id": "a491e331",
   "metadata": {},
   "outputs": [],
   "source": [
    "# cleaning up 'delivery_time' and 'user_age'\n",
    "for col in date_df.columns:\n",
    "    date_df[col] = date_df[col].apply(lambda x: str(x).strip(\" days\"))\n",
    "    date_df[col] = date_df[col].apply(lambda x: x.strip(\" days 00:00:00\"))"
   ]
  },
  {
   "cell_type": "code",
   "execution_count": 58,
   "id": "77d860c9",
   "metadata": {},
   "outputs": [],
   "source": [
    "date_df['user_age'] = date_df['user_age'].astype('str').astype('int')"
   ]
  },
  {
   "cell_type": "code",
   "execution_count": 59,
   "id": "d31bd2f4",
   "metadata": {},
   "outputs": [],
   "source": [
    "date_df['delivery_time'] = np.where(date_df['delivery_time']=='', 0, date_df['delivery_time'])"
   ]
  },
  {
   "cell_type": "code",
   "execution_count": 60,
   "id": "3faa06ea",
   "metadata": {},
   "outputs": [],
   "source": [
    "date_df['delivery_time'] = date_df['delivery_time'].astype('int')"
   ]
  },
  {
   "cell_type": "code",
   "execution_count": 61,
   "id": "bc7772c4",
   "metadata": {},
   "outputs": [
    {
     "data": {
      "text/html": [
       "<div>\n",
       "<style scoped>\n",
       "    .dataframe tbody tr th:only-of-type {\n",
       "        vertical-align: middle;\n",
       "    }\n",
       "\n",
       "    .dataframe tbody tr th {\n",
       "        vertical-align: top;\n",
       "    }\n",
       "\n",
       "    .dataframe thead th {\n",
       "        text-align: right;\n",
       "    }\n",
       "</style>\n",
       "<table border=\"1\" class=\"dataframe\">\n",
       "  <thead>\n",
       "    <tr style=\"text-align: right;\">\n",
       "      <th></th>\n",
       "      <th>delivery_time</th>\n",
       "      <th>user_age</th>\n",
       "    </tr>\n",
       "  </thead>\n",
       "  <tbody>\n",
       "    <tr>\n",
       "      <th>0</th>\n",
       "      <td>5</td>\n",
       "      <td>17234</td>\n",
       "    </tr>\n",
       "    <tr>\n",
       "      <th>1</th>\n",
       "      <td>5</td>\n",
       "      <td>16398</td>\n",
       "    </tr>\n",
       "    <tr>\n",
       "      <th>2</th>\n",
       "      <td>46</td>\n",
       "      <td>16398</td>\n",
       "    </tr>\n",
       "    <tr>\n",
       "      <th>3</th>\n",
       "      <td>3</td>\n",
       "      <td>19892</td>\n",
       "    </tr>\n",
       "    <tr>\n",
       "      <th>5</th>\n",
       "      <td>3</td>\n",
       "      <td>1815</td>\n",
       "    </tr>\n",
       "  </tbody>\n",
       "</table>\n",
       "</div>"
      ],
      "text/plain": [
       "   delivery_time  user_age\n",
       "0              5     17234\n",
       "1              5     16398\n",
       "2             46     16398\n",
       "3              3     19892\n",
       "5              3      1815"
      ]
     },
     "execution_count": 61,
     "metadata": {},
     "output_type": "execute_result"
    }
   ],
   "source": [
    "date_df.head()"
   ]
  },
  {
   "cell_type": "code",
   "execution_count": 62,
   "id": "13dbba68",
   "metadata": {},
   "outputs": [],
   "source": [
    "# converting 'user_age' in days to age in years\n",
    "date_df['user_age'] = date_df['user_age']/365"
   ]
  },
  {
   "cell_type": "code",
   "execution_count": 63,
   "id": "4398e16c",
   "metadata": {},
   "outputs": [
    {
     "data": {
      "text/html": [
       "<div>\n",
       "<style scoped>\n",
       "    .dataframe tbody tr th:only-of-type {\n",
       "        vertical-align: middle;\n",
       "    }\n",
       "\n",
       "    .dataframe tbody tr th {\n",
       "        vertical-align: top;\n",
       "    }\n",
       "\n",
       "    .dataframe thead th {\n",
       "        text-align: right;\n",
       "    }\n",
       "</style>\n",
       "<table border=\"1\" class=\"dataframe\">\n",
       "  <thead>\n",
       "    <tr style=\"text-align: right;\">\n",
       "      <th></th>\n",
       "      <th>delivery_time</th>\n",
       "      <th>user_age</th>\n",
       "    </tr>\n",
       "  </thead>\n",
       "  <tbody>\n",
       "    <tr>\n",
       "      <th>0</th>\n",
       "      <td>5</td>\n",
       "      <td>47.216438</td>\n",
       "    </tr>\n",
       "    <tr>\n",
       "      <th>1</th>\n",
       "      <td>5</td>\n",
       "      <td>44.926027</td>\n",
       "    </tr>\n",
       "    <tr>\n",
       "      <th>2</th>\n",
       "      <td>46</td>\n",
       "      <td>44.926027</td>\n",
       "    </tr>\n",
       "    <tr>\n",
       "      <th>3</th>\n",
       "      <td>3</td>\n",
       "      <td>54.498630</td>\n",
       "    </tr>\n",
       "    <tr>\n",
       "      <th>5</th>\n",
       "      <td>3</td>\n",
       "      <td>4.972603</td>\n",
       "    </tr>\n",
       "  </tbody>\n",
       "</table>\n",
       "</div>"
      ],
      "text/plain": [
       "   delivery_time   user_age\n",
       "0              5  47.216438\n",
       "1              5  44.926027\n",
       "2             46  44.926027\n",
       "3              3  54.498630\n",
       "5              3   4.972603"
      ]
     },
     "execution_count": 63,
     "metadata": {},
     "output_type": "execute_result"
    }
   ],
   "source": [
    "date_df.head()"
   ]
  },
  {
   "cell_type": "code",
   "execution_count": 64,
   "id": "67ede1b1",
   "metadata": {},
   "outputs": [
    {
     "name": "stdout",
     "output_type": "stream",
     "text": [
      "(66162, 11)\n"
     ]
    },
    {
     "data": {
      "text/html": [
       "<div>\n",
       "<style scoped>\n",
       "    .dataframe tbody tr th:only-of-type {\n",
       "        vertical-align: middle;\n",
       "    }\n",
       "\n",
       "    .dataframe tbody tr th {\n",
       "        vertical-align: top;\n",
       "    }\n",
       "\n",
       "    .dataframe thead th {\n",
       "        text-align: right;\n",
       "    }\n",
       "</style>\n",
       "<table border=\"1\" class=\"dataframe\">\n",
       "  <thead>\n",
       "    <tr style=\"text-align: right;\">\n",
       "      <th></th>\n",
       "      <th>order_item_id</th>\n",
       "      <th>item_id</th>\n",
       "      <th>brand_id</th>\n",
       "      <th>item_price</th>\n",
       "      <th>user_id</th>\n",
       "      <th>item_size</th>\n",
       "      <th>item_color</th>\n",
       "      <th>user_state</th>\n",
       "      <th>return</th>\n",
       "      <th>delivery_time</th>\n",
       "      <th>user_age</th>\n",
       "    </tr>\n",
       "  </thead>\n",
       "  <tbody>\n",
       "    <tr>\n",
       "      <th>0</th>\n",
       "      <td>1</td>\n",
       "      <td>643</td>\n",
       "      <td>3.433987</td>\n",
       "      <td>3.929863</td>\n",
       "      <td>30822</td>\n",
       "      <td>medium</td>\n",
       "      <td>0.447024</td>\n",
       "      <td>0.032027</td>\n",
       "      <td>0</td>\n",
       "      <td>5</td>\n",
       "      <td>47.216438</td>\n",
       "    </tr>\n",
       "    <tr>\n",
       "      <th>1</th>\n",
       "      <td>10</td>\n",
       "      <td>195</td>\n",
       "      <td>3.850148</td>\n",
       "      <td>3.039749</td>\n",
       "      <td>30823</td>\n",
       "      <td>extra large</td>\n",
       "      <td>0.308168</td>\n",
       "      <td>0.118739</td>\n",
       "      <td>1</td>\n",
       "      <td>5</td>\n",
       "      <td>44.926027</td>\n",
       "    </tr>\n",
       "    <tr>\n",
       "      <th>2</th>\n",
       "      <td>11</td>\n",
       "      <td>25</td>\n",
       "      <td>1.791759</td>\n",
       "      <td>4.393214</td>\n",
       "      <td>30823</td>\n",
       "      <td>extra large</td>\n",
       "      <td>0.308168</td>\n",
       "      <td>0.118739</td>\n",
       "      <td>0</td>\n",
       "      <td>46</td>\n",
       "      <td>44.926027</td>\n",
       "    </tr>\n",
       "    <tr>\n",
       "      <th>3</th>\n",
       "      <td>32</td>\n",
       "      <td>173</td>\n",
       "      <td>3.044522</td>\n",
       "      <td>3.039749</td>\n",
       "      <td>17234</td>\n",
       "      <td>large</td>\n",
       "      <td>0.447024</td>\n",
       "      <td>0.032027</td>\n",
       "      <td>0</td>\n",
       "      <td>3</td>\n",
       "      <td>54.498630</td>\n",
       "    </tr>\n",
       "    <tr>\n",
       "      <th>5</th>\n",
       "      <td>45</td>\n",
       "      <td>448</td>\n",
       "      <td>4.290459</td>\n",
       "      <td>4.109233</td>\n",
       "      <td>30828</td>\n",
       "      <td>large</td>\n",
       "      <td>0.447024</td>\n",
       "      <td>0.150177</td>\n",
       "      <td>1</td>\n",
       "      <td>3</td>\n",
       "      <td>4.972603</td>\n",
       "    </tr>\n",
       "  </tbody>\n",
       "</table>\n",
       "</div>"
      ],
      "text/plain": [
       "   order_item_id  item_id  brand_id  item_price  user_id    item_size  \\\n",
       "0              1      643  3.433987    3.929863    30822       medium   \n",
       "1             10      195  3.850148    3.039749    30823  extra large   \n",
       "2             11       25  1.791759    4.393214    30823  extra large   \n",
       "3             32      173  3.044522    3.039749    17234        large   \n",
       "5             45      448  4.290459    4.109233    30828        large   \n",
       "\n",
       "   item_color  user_state  return  delivery_time   user_age  \n",
       "0    0.447024    0.032027       0              5  47.216438  \n",
       "1    0.308168    0.118739       1              5  44.926027  \n",
       "2    0.308168    0.118739       0             46  44.926027  \n",
       "3    0.447024    0.032027       0              3  54.498630  \n",
       "5    0.447024    0.150177       1              3   4.972603  "
      ]
     },
     "execution_count": 64,
     "metadata": {},
     "output_type": "execute_result"
    }
   ],
   "source": [
    "# concatenating date_df with new_df\n",
    "data = pd.concat([new_df, date_df], axis=1)\n",
    "print(data.shape)\n",
    "data.head()"
   ]
  },
  {
   "cell_type": "code",
   "execution_count": 65,
   "id": "42aa943d",
   "metadata": {},
   "outputs": [
    {
     "data": {
      "text/plain": [
       "order_item_id    0\n",
       "item_id          0\n",
       "brand_id         0\n",
       "item_price       0\n",
       "user_id          0\n",
       "item_size        0\n",
       "item_color       0\n",
       "user_state       0\n",
       "return           0\n",
       "delivery_time    0\n",
       "user_age         0\n",
       "dtype: int64"
      ]
     },
     "execution_count": 65,
     "metadata": {},
     "output_type": "execute_result"
    }
   ],
   "source": [
    "# checking for any new missing values\n",
    "data.isnull().sum()"
   ]
  },
  {
   "cell_type": "markdown",
   "id": "759489f7",
   "metadata": {},
   "source": [
    "Since 'item_size' was imbalanced, we will upsamle the data based on 'item_size' to make it a little more balanced."
   ]
  },
  {
   "cell_type": "code",
   "execution_count": 66,
   "id": "ba634ca2",
   "metadata": {},
   "outputs": [
    {
     "name": "stdout",
     "output_type": "stream",
     "text": [
      "Class= medium, n=11787 (17.82%)\n",
      "Class= extra large, n=17945 (27.12%)\n",
      "Class= large, n=26570 (40.16%)\n",
      "Class= unsized, n=7642 (11.55%)\n",
      "Class= small, n=2218 (3.35%)\n"
     ]
    }
   ],
   "source": [
    "# checking class distribution in 'item_size'\n",
    "y = data['item_size']\n",
    "X = data.drop('item_size', axis=1)\n",
    "\n",
    "counter = Counter(y)\n",
    "\n",
    "for k,v in counter.items():\n",
    "    per = 100*v/len(y)\n",
    "    print(f\"Class= {k}, n={v} ({per:.2f}%)\")"
   ]
  },
  {
   "cell_type": "code",
   "execution_count": 67,
   "id": "6b68bd07",
   "metadata": {},
   "outputs": [
    {
     "name": "stdout",
     "output_type": "stream",
     "text": [
      "Class= medium, n=26570 (20.00%)\n",
      "Class= extra large, n=26570 (20.00%)\n",
      "Class= large, n=26570 (20.00%)\n",
      "Class= unsized, n=26570 (20.00%)\n",
      "Class= small, n=26570 (20.00%)\n"
     ]
    }
   ],
   "source": [
    "# oversampling 'item_size' and checking new class distribution of 'item_size'\n",
    "oversample = SMOTE()\n",
    "X, y = oversample.fit_resample(X, y)\n",
    "\n",
    "counter = Counter(y)\n",
    "\n",
    "for k,v in counter.items():\n",
    "    per = 100*v/len(y)\n",
    "    print(f\"Class= {k}, n={v} ({per:.2f}%)\")"
   ]
  },
  {
   "cell_type": "code",
   "execution_count": 68,
   "id": "c9257910",
   "metadata": {},
   "outputs": [
    {
     "name": "stdout",
     "output_type": "stream",
     "text": [
      "Upsampled data shape:  (132850, 11)\n"
     ]
    }
   ],
   "source": [
    "# concatenating upsampled features to get the desired dataframe\n",
    "df = pd.concat([X, y], axis=1)\n",
    "print(\"Upsampled data shape: \", df.shape)"
   ]
  },
  {
   "cell_type": "code",
   "execution_count": 69,
   "id": "21252048",
   "metadata": {},
   "outputs": [
    {
     "data": {
      "text/html": [
       "<div>\n",
       "<style scoped>\n",
       "    .dataframe tbody tr th:only-of-type {\n",
       "        vertical-align: middle;\n",
       "    }\n",
       "\n",
       "    .dataframe tbody tr th {\n",
       "        vertical-align: top;\n",
       "    }\n",
       "\n",
       "    .dataframe thead th {\n",
       "        text-align: right;\n",
       "    }\n",
       "</style>\n",
       "<table border=\"1\" class=\"dataframe\">\n",
       "  <thead>\n",
       "    <tr style=\"text-align: right;\">\n",
       "      <th></th>\n",
       "      <th>order_item_id</th>\n",
       "      <th>item_id</th>\n",
       "      <th>brand_id</th>\n",
       "      <th>item_price</th>\n",
       "      <th>user_id</th>\n",
       "      <th>item_color</th>\n",
       "      <th>user_state</th>\n",
       "      <th>return</th>\n",
       "      <th>delivery_time</th>\n",
       "      <th>user_age</th>\n",
       "      <th>item_size</th>\n",
       "    </tr>\n",
       "  </thead>\n",
       "  <tbody>\n",
       "    <tr>\n",
       "      <th>0</th>\n",
       "      <td>1</td>\n",
       "      <td>643</td>\n",
       "      <td>3.433987</td>\n",
       "      <td>3.929863</td>\n",
       "      <td>30822</td>\n",
       "      <td>0.447024</td>\n",
       "      <td>0.032027</td>\n",
       "      <td>0</td>\n",
       "      <td>5</td>\n",
       "      <td>47.216438</td>\n",
       "      <td>2</td>\n",
       "    </tr>\n",
       "    <tr>\n",
       "      <th>1</th>\n",
       "      <td>10</td>\n",
       "      <td>195</td>\n",
       "      <td>3.850148</td>\n",
       "      <td>3.039749</td>\n",
       "      <td>30823</td>\n",
       "      <td>0.308168</td>\n",
       "      <td>0.118739</td>\n",
       "      <td>1</td>\n",
       "      <td>5</td>\n",
       "      <td>44.926027</td>\n",
       "      <td>4</td>\n",
       "    </tr>\n",
       "    <tr>\n",
       "      <th>2</th>\n",
       "      <td>11</td>\n",
       "      <td>25</td>\n",
       "      <td>1.791759</td>\n",
       "      <td>4.393214</td>\n",
       "      <td>30823</td>\n",
       "      <td>0.308168</td>\n",
       "      <td>0.118739</td>\n",
       "      <td>0</td>\n",
       "      <td>46</td>\n",
       "      <td>44.926027</td>\n",
       "      <td>4</td>\n",
       "    </tr>\n",
       "    <tr>\n",
       "      <th>3</th>\n",
       "      <td>32</td>\n",
       "      <td>173</td>\n",
       "      <td>3.044522</td>\n",
       "      <td>3.039749</td>\n",
       "      <td>17234</td>\n",
       "      <td>0.447024</td>\n",
       "      <td>0.032027</td>\n",
       "      <td>0</td>\n",
       "      <td>3</td>\n",
       "      <td>54.498630</td>\n",
       "      <td>3</td>\n",
       "    </tr>\n",
       "    <tr>\n",
       "      <th>4</th>\n",
       "      <td>45</td>\n",
       "      <td>448</td>\n",
       "      <td>4.290459</td>\n",
       "      <td>4.109233</td>\n",
       "      <td>30828</td>\n",
       "      <td>0.447024</td>\n",
       "      <td>0.150177</td>\n",
       "      <td>1</td>\n",
       "      <td>3</td>\n",
       "      <td>4.972603</td>\n",
       "      <td>3</td>\n",
       "    </tr>\n",
       "  </tbody>\n",
       "</table>\n",
       "</div>"
      ],
      "text/plain": [
       "   order_item_id  item_id  brand_id  item_price  user_id  item_color  \\\n",
       "0              1      643  3.433987    3.929863    30822    0.447024   \n",
       "1             10      195  3.850148    3.039749    30823    0.308168   \n",
       "2             11       25  1.791759    4.393214    30823    0.308168   \n",
       "3             32      173  3.044522    3.039749    17234    0.447024   \n",
       "4             45      448  4.290459    4.109233    30828    0.447024   \n",
       "\n",
       "   user_state  return  delivery_time   user_age  item_size  \n",
       "0    0.032027       0              5  47.216438          2  \n",
       "1    0.118739       1              5  44.926027          4  \n",
       "2    0.118739       0             46  44.926027          4  \n",
       "3    0.032027       0              3  54.498630          3  \n",
       "4    0.150177       1              3   4.972603          3  "
      ]
     },
     "execution_count": 69,
     "metadata": {},
     "output_type": "execute_result"
    }
   ],
   "source": [
    "# ordinal encoding 'item_size'\n",
    "df['item_size'] = np.where(df['item_size']=='unsized', 0, \n",
    "                           np.where(df['item_size']=='small', 1,\n",
    "                                    np.where(df['item_size']=='medium', 2,\n",
    "                                             np.where(df['item_size']=='large', 3, 4))))\n",
    "df.head()"
   ]
  },
  {
   "cell_type": "code",
   "execution_count": 70,
   "id": "23c1df8d",
   "metadata": {},
   "outputs": [],
   "source": [
    "# converting all values into float\n",
    "for col in df.drop('return', axis=1).columns:\n",
    "    df[col] =  df[col].astype('float')"
   ]
  },
  {
   "cell_type": "code",
   "execution_count": 71,
   "id": "f6b41c89",
   "metadata": {},
   "outputs": [
    {
     "name": "stdout",
     "output_type": "stream",
     "text": [
      "<class 'pandas.core.frame.DataFrame'>\n",
      "RangeIndex: 132850 entries, 0 to 132849\n",
      "Data columns (total 11 columns):\n",
      " #   Column         Non-Null Count   Dtype  \n",
      "---  ------         --------------   -----  \n",
      " 0   order_item_id  132850 non-null  float64\n",
      " 1   item_id        132850 non-null  float64\n",
      " 2   brand_id       132850 non-null  float64\n",
      " 3   item_price     132850 non-null  float64\n",
      " 4   user_id        132850 non-null  float64\n",
      " 5   item_color     132850 non-null  float64\n",
      " 6   user_state     132850 non-null  float64\n",
      " 7   return         132850 non-null  int32  \n",
      " 8   delivery_time  132850 non-null  float64\n",
      " 9   user_age       132850 non-null  float64\n",
      " 10  item_size      132850 non-null  float64\n",
      "dtypes: float64(10), int32(1)\n",
      "memory usage: 10.6 MB\n"
     ]
    }
   ],
   "source": [
    "df.info()"
   ]
  },
  {
   "cell_type": "code",
   "execution_count": 72,
   "id": "cb915613",
   "metadata": {},
   "outputs": [
    {
     "data": {
      "text/plain": [
       "0    82087\n",
       "1    50763\n",
       "Name: return, dtype: int64"
      ]
     },
     "execution_count": 72,
     "metadata": {},
     "output_type": "execute_result"
    }
   ],
   "source": [
    "# checking the composition of 'return'\n",
    "df['return'].value_counts()"
   ]
  },
  {
   "cell_type": "code",
   "execution_count": 73,
   "id": "27cdf950",
   "metadata": {},
   "outputs": [
    {
     "name": "stdout",
     "output_type": "stream",
     "text": [
      "Class= 0, n=82087 (61.79%)\n",
      "Class= 1, n=50763 (38.21%)\n"
     ]
    }
   ],
   "source": [
    "# checking class distribution of 'return'\n",
    "y = df['return']\n",
    "X = df.drop('return', axis=1)\n",
    "\n",
    "counter = Counter(y)\n",
    "\n",
    "for k,v in counter.items():\n",
    "    per = 100*v/len(y)\n",
    "    print(f\"Class= {k}, n={v} ({per:.2f}%)\")"
   ]
  },
  {
   "cell_type": "code",
   "execution_count": 74,
   "id": "18c9d784",
   "metadata": {},
   "outputs": [
    {
     "name": "stdout",
     "output_type": "stream",
     "text": [
      "Class= 0, n=82087 (50.00%)\n",
      "Class= 1, n=82087 (50.00%)\n"
     ]
    }
   ],
   "source": [
    "# oversampling 'return' and checking new class distribution of 'return'\n",
    "oversample = SMOTE()\n",
    "X, y = oversample.fit_resample(X, y)\n",
    "\n",
    "counter = Counter(y)\n",
    "\n",
    "for k,v in counter.items():\n",
    "    per = 100*v/len(y)\n",
    "    print(f\"Class= {k}, n={v} ({per:.2f}%)\")"
   ]
  },
  {
   "cell_type": "code",
   "execution_count": 75,
   "id": "dd63dcb6",
   "metadata": {},
   "outputs": [
    {
     "name": "stdout",
     "output_type": "stream",
     "text": [
      "Upsampled data shape:  (164174, 11)\n"
     ]
    }
   ],
   "source": [
    "# concatenating upsampled features to get the desired dataframe\n",
    "df = pd.concat([X, y], axis=1)\n",
    "print(\"Upsampled data shape: \", df.shape)"
   ]
  },
  {
   "cell_type": "code",
   "execution_count": 76,
   "id": "21bbac0f",
   "metadata": {},
   "outputs": [
    {
     "name": "stdout",
     "output_type": "stream",
     "text": [
      "(164174, 10) (164174,)\n"
     ]
    }
   ],
   "source": [
    "# splitting the data into features and label\n",
    "y = df['return']\n",
    "X = df.drop('return', axis=1)\n",
    "print(X.shape, y.shape)"
   ]
  },
  {
   "cell_type": "code",
   "execution_count": 77,
   "id": "1e0692c8",
   "metadata": {},
   "outputs": [
    {
     "name": "stdout",
     "output_type": "stream",
     "text": [
      "(114921, 10) (49253, 10) (114921,) (49253,)\n"
     ]
    }
   ],
   "source": [
    "# creating train and test data with 30% test size\n",
    "X_train, X_test, y_train, y_test = train_test_split(X, y, test_size=0.3, random_state=42)\n",
    "print(X_train.shape, X_test.shape, y_train.shape, y_test.shape)"
   ]
  },
  {
   "cell_type": "code",
   "execution_count": 80,
   "id": "3965bba1",
   "metadata": {},
   "outputs": [],
   "source": [
    "# scaling up the features for ease of calculation\n",
    "scaler = StandardScaler()\n",
    "\n",
    "X_train_scaled = scaler.fit_transform(X_train)\n",
    "X_test_scaled = scaler.transform(X_test)"
   ]
  },
  {
   "cell_type": "code",
   "execution_count": 81,
   "id": "78c94fe6",
   "metadata": {},
   "outputs": [],
   "source": [
    "# selecting a good baseline model using cross validation\n",
    "\n",
    "models = []\n",
    "models.append(('KNN', KNeighborsClassifier()))\n",
    "models.append(('LOG', LogisticRegression()))\n",
    "models.append(('DTC', DecisionTreeClassifier()))\n",
    "models.append(('RFC', RandomForestClassifier()))"
   ]
  },
  {
   "cell_type": "code",
   "execution_count": 82,
   "id": "cd089d79",
   "metadata": {},
   "outputs": [],
   "source": [
    "# calculating scores for all the models\n",
    "names = []\n",
    "results = []\n",
    "for name, model in models:\n",
    "    fold = StratifiedKFold(n_splits=5)\n",
    "    score = cross_val_score(model, X_train_scaled, y_train, cv=fold, scoring='accuracy')\n",
    "    names.append(name)\n",
    "    results.append(score)"
   ]
  },
  {
   "cell_type": "code",
   "execution_count": 83,
   "id": "29e833f3",
   "metadata": {},
   "outputs": [
    {
     "name": "stdout",
     "output_type": "stream",
     "text": [
      "Model Scores\n",
      "\n",
      "KNN: 0.68189\n",
      "LOG: 0.60174\n",
      "DTC: 0.71881\n",
      "RFC: 0.78133\n"
     ]
    }
   ],
   "source": [
    "# printing model scores for selecting best model\n",
    "score_dict = dict(zip(names, results))\n",
    "print('Model Scores\\n')\n",
    "for k,v in score_dict.items():\n",
    "    print(f\"{k}: {round(v.mean(),5)}\")"
   ]
  },
  {
   "cell_type": "code",
   "execution_count": 84,
   "id": "405dced9",
   "metadata": {},
   "outputs": [],
   "source": [
    "# selecting Random forest as the best model\n",
    "model = RandomForestClassifier()"
   ]
  },
  {
   "cell_type": "code",
   "execution_count": 85,
   "id": "0b0583ee",
   "metadata": {},
   "outputs": [
    {
     "data": {
      "text/plain": [
       "RandomForestClassifier()"
      ]
     },
     "execution_count": 85,
     "metadata": {},
     "output_type": "execute_result"
    }
   ],
   "source": [
    "# fitting model\n",
    "model.fit(X_train_scaled, y_train)"
   ]
  },
  {
   "cell_type": "code",
   "execution_count": 86,
   "id": "6022fbf0",
   "metadata": {},
   "outputs": [
    {
     "name": "stdout",
     "output_type": "stream",
     "text": [
      "Train data score:  0.7806841126808213\n",
      "Test data score:  0.7334171005855263\n"
     ]
    }
   ],
   "source": [
    "# calculating scores based on 5 fold stratified crossvalidation\n",
    "fold = StratifiedKFold(n_splits=5)\n",
    "train_score = cross_val_score(model, X_train_scaled, y_train, cv=fold, scoring='accuracy')\n",
    "test_score = cross_val_score(model, X_test_scaled, y_test, cv=fold, scoring='accuracy')\n",
    "print('Train data score: ', np.mean(train_score))\n",
    "print('Test data score: ', np.mean(test_score))"
   ]
  },
  {
   "cell_type": "code",
   "execution_count": 87,
   "id": "c7f64f90",
   "metadata": {},
   "outputs": [],
   "source": [
    "# making a prediction for viewing classification metrics\n",
    "y_pred = model.predict(X_test_scaled)\n",
    "auc = roc_auc_score(y_test, y_pred)  # calculating auc score"
   ]
  },
  {
   "cell_type": "code",
   "execution_count": 88,
   "id": "92b0d1ba",
   "metadata": {},
   "outputs": [
    {
     "name": "stdout",
     "output_type": "stream",
     "text": [
      "AUC: 0.7896915043342643\n",
      "\n",
      "              precision    recall  f1-score   support\n",
      "\n",
      "           0       0.79      0.78      0.79     24603\n",
      "           1       0.79      0.80      0.79     24650\n",
      "\n",
      "    accuracy                           0.79     49253\n",
      "   macro avg       0.79      0.79      0.79     49253\n",
      "weighted avg       0.79      0.79      0.79     49253\n",
      "\n"
     ]
    }
   ],
   "source": [
    "# printing auc score and classification report\n",
    "print(f\"AUC: {auc}\\n\")\n",
    "print(classification_report(y_test, y_pred))"
   ]
  },
  {
   "cell_type": "markdown",
   "id": "b63f0d7b",
   "metadata": {},
   "source": [
    "# Test data "
   ]
  },
  {
   "cell_type": "code",
   "execution_count": 89,
   "id": "4389b848",
   "metadata": {},
   "outputs": [],
   "source": [
    "# Run this command if the excel file is not loading\n",
    "# !pip install openpyxl"
   ]
  },
  {
   "cell_type": "code",
   "execution_count": 90,
   "id": "9ed51434",
   "metadata": {},
   "outputs": [
    {
     "name": "stdout",
     "output_type": "stream",
     "text": [
      "(20055, 13)\n"
     ]
    },
    {
     "data": {
      "text/html": [
       "<div>\n",
       "<style scoped>\n",
       "    .dataframe tbody tr th:only-of-type {\n",
       "        vertical-align: middle;\n",
       "    }\n",
       "\n",
       "    .dataframe tbody tr th {\n",
       "        vertical-align: top;\n",
       "    }\n",
       "\n",
       "    .dataframe thead th {\n",
       "        text-align: right;\n",
       "    }\n",
       "</style>\n",
       "<table border=\"1\" class=\"dataframe\">\n",
       "  <thead>\n",
       "    <tr style=\"text-align: right;\">\n",
       "      <th></th>\n",
       "      <th>order_item_id</th>\n",
       "      <th>order_date</th>\n",
       "      <th>delivery_date</th>\n",
       "      <th>item_id</th>\n",
       "      <th>item_size</th>\n",
       "      <th>item_color</th>\n",
       "      <th>brand_id</th>\n",
       "      <th>item_price</th>\n",
       "      <th>user_id</th>\n",
       "      <th>user_title</th>\n",
       "      <th>user_dob</th>\n",
       "      <th>user_state</th>\n",
       "      <th>user_reg_date</th>\n",
       "    </tr>\n",
       "  </thead>\n",
       "  <tbody>\n",
       "    <tr>\n",
       "      <th>0</th>\n",
       "      <td>26</td>\n",
       "      <td>2016-06-23</td>\n",
       "      <td>2016-06-26</td>\n",
       "      <td>92</td>\n",
       "      <td>xl</td>\n",
       "      <td>turquoise</td>\n",
       "      <td>42</td>\n",
       "      <td>69.90</td>\n",
       "      <td>9392</td>\n",
       "      <td>Mrs</td>\n",
       "      <td>1962-04-14</td>\n",
       "      <td>1010</td>\n",
       "      <td>2016-03-24</td>\n",
       "    </tr>\n",
       "    <tr>\n",
       "      <th>1</th>\n",
       "      <td>28</td>\n",
       "      <td>2016-06-23</td>\n",
       "      <td>2016-07-02</td>\n",
       "      <td>2</td>\n",
       "      <td>xxl</td>\n",
       "      <td>green</td>\n",
       "      <td>2</td>\n",
       "      <td>19.90</td>\n",
       "      <td>9392</td>\n",
       "      <td>Mrs</td>\n",
       "      <td>1962-04-14</td>\n",
       "      <td>1010</td>\n",
       "      <td>2016-03-24</td>\n",
       "    </tr>\n",
       "    <tr>\n",
       "      <th>2</th>\n",
       "      <td>37</td>\n",
       "      <td>2016-06-23</td>\n",
       "      <td>2016-06-26</td>\n",
       "      <td>895</td>\n",
       "      <td>38</td>\n",
       "      <td>white</td>\n",
       "      <td>39</td>\n",
       "      <td>39.95</td>\n",
       "      <td>30826</td>\n",
       "      <td>Mrs</td>\n",
       "      <td>1964-04-27</td>\n",
       "      <td>1001</td>\n",
       "      <td>2015-02-17</td>\n",
       "    </tr>\n",
       "    <tr>\n",
       "      <th>3</th>\n",
       "      <td>56</td>\n",
       "      <td>2016-06-23</td>\n",
       "      <td>NaT</td>\n",
       "      <td>5</td>\n",
       "      <td>l</td>\n",
       "      <td>white</td>\n",
       "      <td>5</td>\n",
       "      <td>69.90</td>\n",
       "      <td>30828</td>\n",
       "      <td>Mrs</td>\n",
       "      <td>1966-05-13</td>\n",
       "      <td>1008</td>\n",
       "      <td>2016-01-21</td>\n",
       "    </tr>\n",
       "    <tr>\n",
       "      <th>4</th>\n",
       "      <td>65</td>\n",
       "      <td>2016-06-23</td>\n",
       "      <td>NaT</td>\n",
       "      <td>55</td>\n",
       "      <td>40</td>\n",
       "      <td>purple</td>\n",
       "      <td>1</td>\n",
       "      <td>89.90</td>\n",
       "      <td>22948</td>\n",
       "      <td>Mrs</td>\n",
       "      <td>1957-03-11</td>\n",
       "      <td>1001</td>\n",
       "      <td>2015-02-17</td>\n",
       "    </tr>\n",
       "  </tbody>\n",
       "</table>\n",
       "</div>"
      ],
      "text/plain": [
       "   order_item_id order_date delivery_date  item_id item_size item_color  \\\n",
       "0             26 2016-06-23    2016-06-26       92        xl  turquoise   \n",
       "1             28 2016-06-23    2016-07-02        2       xxl      green   \n",
       "2             37 2016-06-23    2016-06-26      895        38      white   \n",
       "3             56 2016-06-23           NaT        5         l      white   \n",
       "4             65 2016-06-23           NaT       55        40     purple   \n",
       "\n",
       "   brand_id  item_price  user_id user_title   user_dob  user_state  \\\n",
       "0        42       69.90     9392        Mrs 1962-04-14        1010   \n",
       "1         2       19.90     9392        Mrs 1962-04-14        1010   \n",
       "2        39       39.95    30826        Mrs 1964-04-27        1001   \n",
       "3         5       69.90    30828        Mrs 1966-05-13        1008   \n",
       "4         1       89.90    22948        Mrs 1957-03-11        1001   \n",
       "\n",
       "  user_reg_date  \n",
       "0    2016-03-24  \n",
       "1    2016-03-24  \n",
       "2    2015-02-17  \n",
       "3    2016-01-21  \n",
       "4    2015-02-17  "
      ]
     },
     "execution_count": 90,
     "metadata": {},
     "output_type": "execute_result"
    }
   ],
   "source": [
    "# uploading the test data for submission\n",
    "test_data = pd.read_excel('TestingData_For_Candidate (1).xlsx')\n",
    "print(test_data.shape)\n",
    "test_data.head()"
   ]
  },
  {
   "cell_type": "code",
   "execution_count": 91,
   "id": "cad76006",
   "metadata": {},
   "outputs": [],
   "source": [
    "# creating a copy of test data\n",
    "test = test_data.copy()"
   ]
  },
  {
   "cell_type": "code",
   "execution_count": 92,
   "id": "30513d21",
   "metadata": {},
   "outputs": [
    {
     "data": {
      "text/plain": [
       "0"
      ]
     },
     "execution_count": 92,
     "metadata": {},
     "output_type": "execute_result"
    }
   ],
   "source": [
    "# checking duplicates\n",
    "test.duplicated().sum()"
   ]
  },
  {
   "cell_type": "code",
   "execution_count": 93,
   "id": "d49fe05b",
   "metadata": {},
   "outputs": [
    {
     "data": {
      "text/plain": [
       "order_item_id       0\n",
       "order_date          0\n",
       "delivery_date    1882\n",
       "item_id             0\n",
       "item_size           0\n",
       "item_color          0\n",
       "brand_id            0\n",
       "item_price          0\n",
       "user_id             0\n",
       "user_title          0\n",
       "user_dob         1736\n",
       "user_state          0\n",
       "user_reg_date       0\n",
       "dtype: int64"
      ]
     },
     "execution_count": 93,
     "metadata": {},
     "output_type": "execute_result"
    }
   ],
   "source": [
    "# missing values\n",
    "test.isnull().sum()"
   ]
  },
  {
   "cell_type": "code",
   "execution_count": 94,
   "id": "383e62f1",
   "metadata": {},
   "outputs": [],
   "source": [
    "# dropping all missing observations\n",
    "test = test.dropna()"
   ]
  },
  {
   "cell_type": "code",
   "execution_count": 95,
   "id": "dd552e5c",
   "metadata": {},
   "outputs": [
    {
     "data": {
      "text/html": [
       "<div>\n",
       "<style scoped>\n",
       "    .dataframe tbody tr th:only-of-type {\n",
       "        vertical-align: middle;\n",
       "    }\n",
       "\n",
       "    .dataframe tbody tr th {\n",
       "        vertical-align: top;\n",
       "    }\n",
       "\n",
       "    .dataframe thead th {\n",
       "        text-align: right;\n",
       "    }\n",
       "</style>\n",
       "<table border=\"1\" class=\"dataframe\">\n",
       "  <thead>\n",
       "    <tr style=\"text-align: right;\">\n",
       "      <th></th>\n",
       "      <th>order_item_id</th>\n",
       "      <th>order_date</th>\n",
       "      <th>delivery_date</th>\n",
       "      <th>item_id</th>\n",
       "      <th>item_size</th>\n",
       "      <th>item_color</th>\n",
       "      <th>brand_id</th>\n",
       "      <th>item_price</th>\n",
       "      <th>user_id</th>\n",
       "      <th>user_title</th>\n",
       "      <th>user_dob</th>\n",
       "      <th>user_state</th>\n",
       "      <th>user_reg_date</th>\n",
       "    </tr>\n",
       "  </thead>\n",
       "  <tbody>\n",
       "    <tr>\n",
       "      <th>0</th>\n",
       "      <td>26</td>\n",
       "      <td>2016-06-23</td>\n",
       "      <td>2016-06-26</td>\n",
       "      <td>92</td>\n",
       "      <td>xl</td>\n",
       "      <td>turquoise</td>\n",
       "      <td>42</td>\n",
       "      <td>69.90</td>\n",
       "      <td>9392</td>\n",
       "      <td>Mrs</td>\n",
       "      <td>1962-04-14</td>\n",
       "      <td>1010</td>\n",
       "      <td>2016-03-24</td>\n",
       "    </tr>\n",
       "    <tr>\n",
       "      <th>1</th>\n",
       "      <td>28</td>\n",
       "      <td>2016-06-23</td>\n",
       "      <td>2016-07-02</td>\n",
       "      <td>2</td>\n",
       "      <td>xxl</td>\n",
       "      <td>green</td>\n",
       "      <td>2</td>\n",
       "      <td>19.90</td>\n",
       "      <td>9392</td>\n",
       "      <td>Mrs</td>\n",
       "      <td>1962-04-14</td>\n",
       "      <td>1010</td>\n",
       "      <td>2016-03-24</td>\n",
       "    </tr>\n",
       "    <tr>\n",
       "      <th>2</th>\n",
       "      <td>37</td>\n",
       "      <td>2016-06-23</td>\n",
       "      <td>2016-06-26</td>\n",
       "      <td>895</td>\n",
       "      <td>38</td>\n",
       "      <td>white</td>\n",
       "      <td>39</td>\n",
       "      <td>39.95</td>\n",
       "      <td>30826</td>\n",
       "      <td>Mrs</td>\n",
       "      <td>1964-04-27</td>\n",
       "      <td>1001</td>\n",
       "      <td>2015-02-17</td>\n",
       "    </tr>\n",
       "    <tr>\n",
       "      <th>5</th>\n",
       "      <td>80</td>\n",
       "      <td>2016-06-23</td>\n",
       "      <td>2016-06-26</td>\n",
       "      <td>57</td>\n",
       "      <td>l</td>\n",
       "      <td>purple</td>\n",
       "      <td>3</td>\n",
       "      <td>24.90</td>\n",
       "      <td>16075</td>\n",
       "      <td>Mrs</td>\n",
       "      <td>1969-11-03</td>\n",
       "      <td>1003</td>\n",
       "      <td>2015-11-22</td>\n",
       "    </tr>\n",
       "    <tr>\n",
       "      <th>6</th>\n",
       "      <td>95</td>\n",
       "      <td>2016-06-23</td>\n",
       "      <td>2016-06-26</td>\n",
       "      <td>57</td>\n",
       "      <td>xl</td>\n",
       "      <td>olive</td>\n",
       "      <td>3</td>\n",
       "      <td>34.90</td>\n",
       "      <td>17124</td>\n",
       "      <td>Mrs</td>\n",
       "      <td>1949-03-03</td>\n",
       "      <td>1015</td>\n",
       "      <td>2015-08-02</td>\n",
       "    </tr>\n",
       "  </tbody>\n",
       "</table>\n",
       "</div>"
      ],
      "text/plain": [
       "   order_item_id order_date delivery_date  item_id item_size item_color  \\\n",
       "0             26 2016-06-23    2016-06-26       92        xl  turquoise   \n",
       "1             28 2016-06-23    2016-07-02        2       xxl      green   \n",
       "2             37 2016-06-23    2016-06-26      895        38      white   \n",
       "5             80 2016-06-23    2016-06-26       57         l     purple   \n",
       "6             95 2016-06-23    2016-06-26       57        xl      olive   \n",
       "\n",
       "   brand_id  item_price  user_id user_title   user_dob  user_state  \\\n",
       "0        42       69.90     9392        Mrs 1962-04-14        1010   \n",
       "1         2       19.90     9392        Mrs 1962-04-14        1010   \n",
       "2        39       39.95    30826        Mrs 1964-04-27        1001   \n",
       "5         3       24.90    16075        Mrs 1969-11-03        1003   \n",
       "6         3       34.90    17124        Mrs 1949-03-03        1015   \n",
       "\n",
       "  user_reg_date  \n",
       "0    2016-03-24  \n",
       "1    2016-03-24  \n",
       "2    2015-02-17  \n",
       "5    2015-11-22  \n",
       "6    2015-08-02  "
      ]
     },
     "execution_count": 95,
     "metadata": {},
     "output_type": "execute_result"
    }
   ],
   "source": [
    "test.head()"
   ]
  },
  {
   "cell_type": "markdown",
   "id": "1d9fa265",
   "metadata": {},
   "source": [
    "### Processing test data"
   ]
  },
  {
   "cell_type": "code",
   "execution_count": 96,
   "id": "5fc81dfe",
   "metadata": {},
   "outputs": [],
   "source": [
    "# creating a function for processing datetime features\n",
    "\n",
    "def process_date(date_df):\n",
    "    # converting datetime features to datetime\n",
    "    for feat in ['order_date', 'delivery_date', 'user_dob', 'user_reg_date']:\n",
    "        date_df[feat] = pd.to_datetime(date_df[feat])\n",
    "    date_df['delivery_time'] = np.abs(date_df['delivery_date'] - date_df['order_date'])\n",
    "    date_df['user_age'] = np.abs(date_df['user_reg_date'] - date_df['user_dob'])\n",
    "    # dropping 'order_date', 'delivery_date', 'user_dob', 'user_reg_date'\n",
    "    date_df.drop(['order_date', 'delivery_date', 'user_dob', 'user_reg_date'], axis=1, inplace=True)\n",
    "    for col in date_df.columns:\n",
    "        date_df[col] = date_df[col].apply(lambda x: str(x).strip(\" days\"))\n",
    "        date_df[col] = date_df[col].apply(lambda x: x.strip(\" days 00:00:00\"))\n",
    "    date_df['user_age'] = date_df['user_age'].astype('str').astype('int')\n",
    "    date_df['delivery_time'] = np.where(date_df['delivery_time']=='', 0, date_df['delivery_time'])\n",
    "    date_df['delivery_time'] = date_df['delivery_time'].astype('int')\n",
    "    date_df['user_age'] = date_df['user_age']/365\n",
    "    return date_df"
   ]
  },
  {
   "cell_type": "code",
   "execution_count": 97,
   "id": "c0a10777",
   "metadata": {},
   "outputs": [],
   "source": [
    "# creating a dataframe of datetime features in test data\n",
    "date_test = test[['order_date', 'delivery_date', 'user_dob', 'user_reg_date']]"
   ]
  },
  {
   "cell_type": "code",
   "execution_count": 98,
   "id": "7c27c6d3",
   "metadata": {},
   "outputs": [
    {
     "data": {
      "text/html": [
       "<div>\n",
       "<style scoped>\n",
       "    .dataframe tbody tr th:only-of-type {\n",
       "        vertical-align: middle;\n",
       "    }\n",
       "\n",
       "    .dataframe tbody tr th {\n",
       "        vertical-align: top;\n",
       "    }\n",
       "\n",
       "    .dataframe thead th {\n",
       "        text-align: right;\n",
       "    }\n",
       "</style>\n",
       "<table border=\"1\" class=\"dataframe\">\n",
       "  <thead>\n",
       "    <tr style=\"text-align: right;\">\n",
       "      <th></th>\n",
       "      <th>delivery_time</th>\n",
       "      <th>user_age</th>\n",
       "    </tr>\n",
       "  </thead>\n",
       "  <tbody>\n",
       "    <tr>\n",
       "      <th>0</th>\n",
       "      <td>3</td>\n",
       "      <td>53.980822</td>\n",
       "    </tr>\n",
       "    <tr>\n",
       "      <th>1</th>\n",
       "      <td>9</td>\n",
       "      <td>53.980822</td>\n",
       "    </tr>\n",
       "    <tr>\n",
       "      <th>2</th>\n",
       "      <td>3</td>\n",
       "      <td>50.843836</td>\n",
       "    </tr>\n",
       "    <tr>\n",
       "      <th>5</th>\n",
       "      <td>3</td>\n",
       "      <td>4.608219</td>\n",
       "    </tr>\n",
       "    <tr>\n",
       "      <th>6</th>\n",
       "      <td>3</td>\n",
       "      <td>66.460274</td>\n",
       "    </tr>\n",
       "  </tbody>\n",
       "</table>\n",
       "</div>"
      ],
      "text/plain": [
       "   delivery_time   user_age\n",
       "0              3  53.980822\n",
       "1              9  53.980822\n",
       "2              3  50.843836\n",
       "5              3   4.608219\n",
       "6              3  66.460274"
      ]
     },
     "execution_count": 98,
     "metadata": {},
     "output_type": "execute_result"
    }
   ],
   "source": [
    "# processing the datetime features using the above function\n",
    "date_test = process_date(date_test)\n",
    "date_test.head()"
   ]
  },
  {
   "cell_type": "code",
   "execution_count": 99,
   "id": "78614da9",
   "metadata": {},
   "outputs": [
    {
     "data": {
      "text/html": [
       "<div>\n",
       "<style scoped>\n",
       "    .dataframe tbody tr th:only-of-type {\n",
       "        vertical-align: middle;\n",
       "    }\n",
       "\n",
       "    .dataframe tbody tr th {\n",
       "        vertical-align: top;\n",
       "    }\n",
       "\n",
       "    .dataframe thead th {\n",
       "        text-align: right;\n",
       "    }\n",
       "</style>\n",
       "<table border=\"1\" class=\"dataframe\">\n",
       "  <thead>\n",
       "    <tr style=\"text-align: right;\">\n",
       "      <th></th>\n",
       "      <th>order_item_id</th>\n",
       "      <th>item_id</th>\n",
       "      <th>item_size</th>\n",
       "      <th>item_color</th>\n",
       "      <th>brand_id</th>\n",
       "      <th>item_price</th>\n",
       "      <th>user_id</th>\n",
       "      <th>user_title</th>\n",
       "      <th>user_state</th>\n",
       "      <th>delivery_time</th>\n",
       "      <th>user_age</th>\n",
       "    </tr>\n",
       "  </thead>\n",
       "  <tbody>\n",
       "    <tr>\n",
       "      <th>0</th>\n",
       "      <td>26</td>\n",
       "      <td>92</td>\n",
       "      <td>xl</td>\n",
       "      <td>turquoise</td>\n",
       "      <td>42</td>\n",
       "      <td>69.90</td>\n",
       "      <td>9392</td>\n",
       "      <td>Mrs</td>\n",
       "      <td>1010</td>\n",
       "      <td>3</td>\n",
       "      <td>53.980822</td>\n",
       "    </tr>\n",
       "    <tr>\n",
       "      <th>1</th>\n",
       "      <td>28</td>\n",
       "      <td>2</td>\n",
       "      <td>xxl</td>\n",
       "      <td>green</td>\n",
       "      <td>2</td>\n",
       "      <td>19.90</td>\n",
       "      <td>9392</td>\n",
       "      <td>Mrs</td>\n",
       "      <td>1010</td>\n",
       "      <td>9</td>\n",
       "      <td>53.980822</td>\n",
       "    </tr>\n",
       "    <tr>\n",
       "      <th>2</th>\n",
       "      <td>37</td>\n",
       "      <td>895</td>\n",
       "      <td>38</td>\n",
       "      <td>white</td>\n",
       "      <td>39</td>\n",
       "      <td>39.95</td>\n",
       "      <td>30826</td>\n",
       "      <td>Mrs</td>\n",
       "      <td>1001</td>\n",
       "      <td>3</td>\n",
       "      <td>50.843836</td>\n",
       "    </tr>\n",
       "    <tr>\n",
       "      <th>5</th>\n",
       "      <td>80</td>\n",
       "      <td>57</td>\n",
       "      <td>l</td>\n",
       "      <td>purple</td>\n",
       "      <td>3</td>\n",
       "      <td>24.90</td>\n",
       "      <td>16075</td>\n",
       "      <td>Mrs</td>\n",
       "      <td>1003</td>\n",
       "      <td>3</td>\n",
       "      <td>4.608219</td>\n",
       "    </tr>\n",
       "    <tr>\n",
       "      <th>6</th>\n",
       "      <td>95</td>\n",
       "      <td>57</td>\n",
       "      <td>xl</td>\n",
       "      <td>olive</td>\n",
       "      <td>3</td>\n",
       "      <td>34.90</td>\n",
       "      <td>17124</td>\n",
       "      <td>Mrs</td>\n",
       "      <td>1015</td>\n",
       "      <td>3</td>\n",
       "      <td>66.460274</td>\n",
       "    </tr>\n",
       "  </tbody>\n",
       "</table>\n",
       "</div>"
      ],
      "text/plain": [
       "   order_item_id  item_id item_size item_color  brand_id  item_price  user_id  \\\n",
       "0             26       92        xl  turquoise        42       69.90     9392   \n",
       "1             28        2       xxl      green         2       19.90     9392   \n",
       "2             37      895        38      white        39       39.95    30826   \n",
       "5             80       57         l     purple         3       24.90    16075   \n",
       "6             95       57        xl      olive         3       34.90    17124   \n",
       "\n",
       "  user_title  user_state  delivery_time   user_age  \n",
       "0        Mrs        1010              3  53.980822  \n",
       "1        Mrs        1010              9  53.980822  \n",
       "2        Mrs        1001              3  50.843836  \n",
       "5        Mrs        1003              3   4.608219  \n",
       "6        Mrs        1015              3  66.460274  "
      ]
     },
     "execution_count": 99,
     "metadata": {},
     "output_type": "execute_result"
    }
   ],
   "source": [
    "# concatenating processed datetime features and removing existing datetime features from test set\n",
    "test = pd.concat([test, date_test], axis=1)\n",
    "test.drop(['order_date', 'delivery_date', 'user_dob', 'user_reg_date'], axis=1, inplace=True)\n",
    "test.head()"
   ]
  },
  {
   "cell_type": "code",
   "execution_count": 100,
   "id": "822a0b7b",
   "metadata": {},
   "outputs": [],
   "source": [
    "# applying log transform on numerical features\n",
    "for feat in ['brand_id', 'item_price']:\n",
    "    test[feat] = np.log1p(test[feat])"
   ]
  },
  {
   "cell_type": "code",
   "execution_count": 101,
   "id": "863a58e1",
   "metadata": {},
   "outputs": [],
   "source": [
    "# creating a function for processing 'item_size'\n",
    "def process_itemsize(cat_df):\n",
    "    # mapping 'item_size'class values\n",
    "    cat_df['item_size'] = np.where(cat_df['item_size']=='s', '39', \n",
    "                                   np.where(cat_df['item_size']=='m', '40',\n",
    "                                           np.where(cat_df['item_size']=='l', '42',\n",
    "                                                   np.where(cat_df['item_size']=='xl', '45',\n",
    "                                                            np.where(cat_df['item_size']=='xxl', '48',\n",
    "                                                                     np.where(cat_df['item_size']=='xxxl', '50',cat_df['item_size']\n",
    "                                                           ))))))\n",
    "    cat_df['item_size'] = np.where(cat_df['item_size'].isin(['21','22','23','24','25','26','27','28','29','30',\n",
    "                                                     '31','32','33','34','35','36','37','38','39','40',\n",
    "                                                     '41','42','43','44','45','46','47','48','49','50', 'unsized']), \n",
    "                             cat_df['item_size'], 'unsized')\n",
    "    cat_df['item_size'] = np.where(cat_df['item_size'].isin(['21','22','23','24','25','26','27','28','29','30',\n",
    "                                                     '31','32','33']), 'kids', cat_df['item_size'])\n",
    "    cat_df['item_size'] = np.where(cat_df['item_size'].isin(['34','35','36']), 'small',\n",
    "                             np.where(cat_df['item_size'].isin(['37','38','39']), 'medium',\n",
    "                                      np.where(cat_df['item_size'].isin(['40','41','42']), 'large',\n",
    "                                               np.where(cat_df['item_size'].isin(['43','44','45','46','47', '48','49','50']), 'extra large',\n",
    "                                                        cat_df['item_size']))))\n",
    "    cat_df['item_size'] = np.where(cat_df['item_size']=='kids', 'small', cat_df['item_size'])\n",
    "    # ordinal encoding 'item_size'\n",
    "    cat_df['item_size'] = np.where(cat_df['item_size']=='unsized', 0,\n",
    "                                   np.where(cat_df['item_size']=='small', 1,\n",
    "                                            np.where(cat_df['item_size']=='medium', 2,\n",
    "                                                     np.where(cat_df['item_size']=='large', 3, 4))))\n",
    "    return cat_df"
   ]
  },
  {
   "cell_type": "code",
   "execution_count": 102,
   "id": "fa9922f8",
   "metadata": {},
   "outputs": [
    {
     "data": {
      "text/html": [
       "<div>\n",
       "<style scoped>\n",
       "    .dataframe tbody tr th:only-of-type {\n",
       "        vertical-align: middle;\n",
       "    }\n",
       "\n",
       "    .dataframe tbody tr th {\n",
       "        vertical-align: top;\n",
       "    }\n",
       "\n",
       "    .dataframe thead th {\n",
       "        text-align: right;\n",
       "    }\n",
       "</style>\n",
       "<table border=\"1\" class=\"dataframe\">\n",
       "  <thead>\n",
       "    <tr style=\"text-align: right;\">\n",
       "      <th></th>\n",
       "      <th>order_item_id</th>\n",
       "      <th>item_id</th>\n",
       "      <th>item_size</th>\n",
       "      <th>item_color</th>\n",
       "      <th>brand_id</th>\n",
       "      <th>item_price</th>\n",
       "      <th>user_id</th>\n",
       "      <th>user_title</th>\n",
       "      <th>user_state</th>\n",
       "      <th>delivery_time</th>\n",
       "      <th>user_age</th>\n",
       "    </tr>\n",
       "  </thead>\n",
       "  <tbody>\n",
       "    <tr>\n",
       "      <th>0</th>\n",
       "      <td>26</td>\n",
       "      <td>92</td>\n",
       "      <td>4</td>\n",
       "      <td>turquoise</td>\n",
       "      <td>3.761200</td>\n",
       "      <td>4.261270</td>\n",
       "      <td>9392</td>\n",
       "      <td>Mrs</td>\n",
       "      <td>1010</td>\n",
       "      <td>3</td>\n",
       "      <td>53.980822</td>\n",
       "    </tr>\n",
       "    <tr>\n",
       "      <th>1</th>\n",
       "      <td>28</td>\n",
       "      <td>2</td>\n",
       "      <td>4</td>\n",
       "      <td>green</td>\n",
       "      <td>1.098612</td>\n",
       "      <td>3.039749</td>\n",
       "      <td>9392</td>\n",
       "      <td>Mrs</td>\n",
       "      <td>1010</td>\n",
       "      <td>9</td>\n",
       "      <td>53.980822</td>\n",
       "    </tr>\n",
       "    <tr>\n",
       "      <th>2</th>\n",
       "      <td>37</td>\n",
       "      <td>895</td>\n",
       "      <td>0</td>\n",
       "      <td>white</td>\n",
       "      <td>3.688879</td>\n",
       "      <td>3.712352</td>\n",
       "      <td>30826</td>\n",
       "      <td>Mrs</td>\n",
       "      <td>1001</td>\n",
       "      <td>3</td>\n",
       "      <td>50.843836</td>\n",
       "    </tr>\n",
       "    <tr>\n",
       "      <th>5</th>\n",
       "      <td>80</td>\n",
       "      <td>57</td>\n",
       "      <td>3</td>\n",
       "      <td>purple</td>\n",
       "      <td>1.386294</td>\n",
       "      <td>3.254243</td>\n",
       "      <td>16075</td>\n",
       "      <td>Mrs</td>\n",
       "      <td>1003</td>\n",
       "      <td>3</td>\n",
       "      <td>4.608219</td>\n",
       "    </tr>\n",
       "    <tr>\n",
       "      <th>6</th>\n",
       "      <td>95</td>\n",
       "      <td>57</td>\n",
       "      <td>4</td>\n",
       "      <td>olive</td>\n",
       "      <td>1.386294</td>\n",
       "      <td>3.580737</td>\n",
       "      <td>17124</td>\n",
       "      <td>Mrs</td>\n",
       "      <td>1015</td>\n",
       "      <td>3</td>\n",
       "      <td>66.460274</td>\n",
       "    </tr>\n",
       "  </tbody>\n",
       "</table>\n",
       "</div>"
      ],
      "text/plain": [
       "   order_item_id  item_id  item_size item_color  brand_id  item_price  \\\n",
       "0             26       92          4  turquoise  3.761200    4.261270   \n",
       "1             28        2          4      green  1.098612    3.039749   \n",
       "2             37      895          0      white  3.688879    3.712352   \n",
       "5             80       57          3     purple  1.386294    3.254243   \n",
       "6             95       57          4      olive  1.386294    3.580737   \n",
       "\n",
       "   user_id user_title  user_state  delivery_time   user_age  \n",
       "0     9392        Mrs        1010              3  53.980822  \n",
       "1     9392        Mrs        1010              9  53.980822  \n",
       "2    30826        Mrs        1001              3  50.843836  \n",
       "5    16075        Mrs        1003              3   4.608219  \n",
       "6    17124        Mrs        1015              3  66.460274  "
      ]
     },
     "execution_count": 102,
     "metadata": {},
     "output_type": "execute_result"
    }
   ],
   "source": [
    "# processing 'item_size'\n",
    "test = process_itemsize(test)\n",
    "test.head()"
   ]
  },
  {
   "cell_type": "code",
   "execution_count": 103,
   "id": "1687f834",
   "metadata": {},
   "outputs": [],
   "source": [
    "# frequency encoding 'user_state', 'item_color' usinf frequency_encoding function\n",
    "frequency_encoding(test, ['user_state', 'item_color'])"
   ]
  },
  {
   "cell_type": "code",
   "execution_count": 104,
   "id": "a03571f4",
   "metadata": {},
   "outputs": [],
   "source": [
    "# dropping 'user_title'\n",
    "test.drop('user_title', axis=1, inplace=True)"
   ]
  },
  {
   "cell_type": "code",
   "execution_count": 105,
   "id": "c10fb415",
   "metadata": {},
   "outputs": [
    {
     "data": {
      "text/html": [
       "<div>\n",
       "<style scoped>\n",
       "    .dataframe tbody tr th:only-of-type {\n",
       "        vertical-align: middle;\n",
       "    }\n",
       "\n",
       "    .dataframe tbody tr th {\n",
       "        vertical-align: top;\n",
       "    }\n",
       "\n",
       "    .dataframe thead th {\n",
       "        text-align: right;\n",
       "    }\n",
       "</style>\n",
       "<table border=\"1\" class=\"dataframe\">\n",
       "  <thead>\n",
       "    <tr style=\"text-align: right;\">\n",
       "      <th></th>\n",
       "      <th>order_item_id</th>\n",
       "      <th>item_id</th>\n",
       "      <th>item_size</th>\n",
       "      <th>item_color</th>\n",
       "      <th>brand_id</th>\n",
       "      <th>item_price</th>\n",
       "      <th>user_id</th>\n",
       "      <th>user_state</th>\n",
       "      <th>delivery_time</th>\n",
       "      <th>user_age</th>\n",
       "    </tr>\n",
       "  </thead>\n",
       "  <tbody>\n",
       "    <tr>\n",
       "      <th>0</th>\n",
       "      <td>26</td>\n",
       "      <td>92</td>\n",
       "      <td>4</td>\n",
       "      <td>0.002388</td>\n",
       "      <td>3.761200</td>\n",
       "      <td>4.261270</td>\n",
       "      <td>9392</td>\n",
       "      <td>0.057631</td>\n",
       "      <td>3</td>\n",
       "      <td>53.980822</td>\n",
       "    </tr>\n",
       "    <tr>\n",
       "      <th>1</th>\n",
       "      <td>28</td>\n",
       "      <td>2</td>\n",
       "      <td>4</td>\n",
       "      <td>0.013437</td>\n",
       "      <td>1.098612</td>\n",
       "      <td>3.039749</td>\n",
       "      <td>9392</td>\n",
       "      <td>0.057631</td>\n",
       "      <td>9</td>\n",
       "      <td>53.980822</td>\n",
       "    </tr>\n",
       "    <tr>\n",
       "      <th>2</th>\n",
       "      <td>37</td>\n",
       "      <td>895</td>\n",
       "      <td>0</td>\n",
       "      <td>0.007603</td>\n",
       "      <td>3.688879</td>\n",
       "      <td>3.712352</td>\n",
       "      <td>30826</td>\n",
       "      <td>0.029413</td>\n",
       "      <td>3</td>\n",
       "      <td>50.843836</td>\n",
       "    </tr>\n",
       "    <tr>\n",
       "      <th>5</th>\n",
       "      <td>80</td>\n",
       "      <td>57</td>\n",
       "      <td>3</td>\n",
       "      <td>0.009839</td>\n",
       "      <td>1.386294</td>\n",
       "      <td>3.254243</td>\n",
       "      <td>16075</td>\n",
       "      <td>0.009598</td>\n",
       "      <td>3</td>\n",
       "      <td>4.608219</td>\n",
       "    </tr>\n",
       "    <tr>\n",
       "      <th>6</th>\n",
       "      <td>95</td>\n",
       "      <td>57</td>\n",
       "      <td>4</td>\n",
       "      <td>0.005456</td>\n",
       "      <td>1.386294</td>\n",
       "      <td>3.580737</td>\n",
       "      <td>17124</td>\n",
       "      <td>0.013905</td>\n",
       "      <td>3</td>\n",
       "      <td>66.460274</td>\n",
       "    </tr>\n",
       "  </tbody>\n",
       "</table>\n",
       "</div>"
      ],
      "text/plain": [
       "   order_item_id  item_id  item_size  item_color  brand_id  item_price  \\\n",
       "0             26       92          4    0.002388  3.761200    4.261270   \n",
       "1             28        2          4    0.013437  1.098612    3.039749   \n",
       "2             37      895          0    0.007603  3.688879    3.712352   \n",
       "5             80       57          3    0.009839  1.386294    3.254243   \n",
       "6             95       57          4    0.005456  1.386294    3.580737   \n",
       "\n",
       "   user_id  user_state  delivery_time   user_age  \n",
       "0     9392    0.057631              3  53.980822  \n",
       "1     9392    0.057631              9  53.980822  \n",
       "2    30826    0.029413              3  50.843836  \n",
       "5    16075    0.009598              3   4.608219  \n",
       "6    17124    0.013905              3  66.460274  "
      ]
     },
     "execution_count": 105,
     "metadata": {},
     "output_type": "execute_result"
    }
   ],
   "source": [
    "test.head()"
   ]
  },
  {
   "cell_type": "code",
   "execution_count": 106,
   "id": "16bddc8b",
   "metadata": {},
   "outputs": [],
   "source": [
    "# converting all features to type 'float'\n",
    "for col in test:\n",
    "    test[col] = test[col].astype('float')"
   ]
  },
  {
   "cell_type": "code",
   "execution_count": 107,
   "id": "b7dbccb6",
   "metadata": {},
   "outputs": [
    {
     "data": {
      "text/html": [
       "<div>\n",
       "<style scoped>\n",
       "    .dataframe tbody tr th:only-of-type {\n",
       "        vertical-align: middle;\n",
       "    }\n",
       "\n",
       "    .dataframe tbody tr th {\n",
       "        vertical-align: top;\n",
       "    }\n",
       "\n",
       "    .dataframe thead th {\n",
       "        text-align: right;\n",
       "    }\n",
       "</style>\n",
       "<table border=\"1\" class=\"dataframe\">\n",
       "  <thead>\n",
       "    <tr style=\"text-align: right;\">\n",
       "      <th></th>\n",
       "      <th>order_item_id</th>\n",
       "      <th>item_id</th>\n",
       "      <th>item_size</th>\n",
       "      <th>item_color</th>\n",
       "      <th>brand_id</th>\n",
       "      <th>item_price</th>\n",
       "      <th>user_id</th>\n",
       "      <th>user_state</th>\n",
       "      <th>delivery_time</th>\n",
       "      <th>user_age</th>\n",
       "    </tr>\n",
       "  </thead>\n",
       "  <tbody>\n",
       "    <tr>\n",
       "      <th>0</th>\n",
       "      <td>26.0</td>\n",
       "      <td>92.0</td>\n",
       "      <td>4.0</td>\n",
       "      <td>0.002388</td>\n",
       "      <td>3.761200</td>\n",
       "      <td>4.261270</td>\n",
       "      <td>9392.0</td>\n",
       "      <td>0.057631</td>\n",
       "      <td>3.0</td>\n",
       "      <td>53.980822</td>\n",
       "    </tr>\n",
       "    <tr>\n",
       "      <th>1</th>\n",
       "      <td>28.0</td>\n",
       "      <td>2.0</td>\n",
       "      <td>4.0</td>\n",
       "      <td>0.013437</td>\n",
       "      <td>1.098612</td>\n",
       "      <td>3.039749</td>\n",
       "      <td>9392.0</td>\n",
       "      <td>0.057631</td>\n",
       "      <td>9.0</td>\n",
       "      <td>53.980822</td>\n",
       "    </tr>\n",
       "    <tr>\n",
       "      <th>2</th>\n",
       "      <td>37.0</td>\n",
       "      <td>895.0</td>\n",
       "      <td>0.0</td>\n",
       "      <td>0.007603</td>\n",
       "      <td>3.688879</td>\n",
       "      <td>3.712352</td>\n",
       "      <td>30826.0</td>\n",
       "      <td>0.029413</td>\n",
       "      <td>3.0</td>\n",
       "      <td>50.843836</td>\n",
       "    </tr>\n",
       "    <tr>\n",
       "      <th>5</th>\n",
       "      <td>80.0</td>\n",
       "      <td>57.0</td>\n",
       "      <td>3.0</td>\n",
       "      <td>0.009839</td>\n",
       "      <td>1.386294</td>\n",
       "      <td>3.254243</td>\n",
       "      <td>16075.0</td>\n",
       "      <td>0.009598</td>\n",
       "      <td>3.0</td>\n",
       "      <td>4.608219</td>\n",
       "    </tr>\n",
       "    <tr>\n",
       "      <th>6</th>\n",
       "      <td>95.0</td>\n",
       "      <td>57.0</td>\n",
       "      <td>4.0</td>\n",
       "      <td>0.005456</td>\n",
       "      <td>1.386294</td>\n",
       "      <td>3.580737</td>\n",
       "      <td>17124.0</td>\n",
       "      <td>0.013905</td>\n",
       "      <td>3.0</td>\n",
       "      <td>66.460274</td>\n",
       "    </tr>\n",
       "  </tbody>\n",
       "</table>\n",
       "</div>"
      ],
      "text/plain": [
       "   order_item_id  item_id  item_size  item_color  brand_id  item_price  \\\n",
       "0           26.0     92.0        4.0    0.002388  3.761200    4.261270   \n",
       "1           28.0      2.0        4.0    0.013437  1.098612    3.039749   \n",
       "2           37.0    895.0        0.0    0.007603  3.688879    3.712352   \n",
       "5           80.0     57.0        3.0    0.009839  1.386294    3.254243   \n",
       "6           95.0     57.0        4.0    0.005456  1.386294    3.580737   \n",
       "\n",
       "   user_id  user_state  delivery_time   user_age  \n",
       "0   9392.0    0.057631            3.0  53.980822  \n",
       "1   9392.0    0.057631            9.0  53.980822  \n",
       "2  30826.0    0.029413            3.0  50.843836  \n",
       "5  16075.0    0.009598            3.0   4.608219  \n",
       "6  17124.0    0.013905            3.0  66.460274  "
      ]
     },
     "execution_count": 107,
     "metadata": {},
     "output_type": "execute_result"
    }
   ],
   "source": [
    "test.head()"
   ]
  },
  {
   "cell_type": "code",
   "execution_count": 108,
   "id": "e6944a44",
   "metadata": {},
   "outputs": [],
   "source": [
    "# scaling up test data\n",
    "test_scaled = scaler.transform(test)"
   ]
  },
  {
   "cell_type": "code",
   "execution_count": 109,
   "id": "03fbd48b",
   "metadata": {},
   "outputs": [],
   "source": [
    "# making a prediction using the Random forest model and scaled up test data\n",
    "y_pred = model.predict(test_scaled)"
   ]
  },
  {
   "cell_type": "code",
   "execution_count": 110,
   "id": "e92f75bd",
   "metadata": {},
   "outputs": [
    {
     "data": {
      "text/html": [
       "<div>\n",
       "<style scoped>\n",
       "    .dataframe tbody tr th:only-of-type {\n",
       "        vertical-align: middle;\n",
       "    }\n",
       "\n",
       "    .dataframe tbody tr th {\n",
       "        vertical-align: top;\n",
       "    }\n",
       "\n",
       "    .dataframe thead th {\n",
       "        text-align: right;\n",
       "    }\n",
       "</style>\n",
       "<table border=\"1\" class=\"dataframe\">\n",
       "  <thead>\n",
       "    <tr style=\"text-align: right;\">\n",
       "      <th></th>\n",
       "      <th>order_item_id</th>\n",
       "      <th>order_date</th>\n",
       "      <th>delivery_date</th>\n",
       "      <th>item_id</th>\n",
       "      <th>item_size</th>\n",
       "      <th>item_color</th>\n",
       "      <th>brand_id</th>\n",
       "      <th>item_price</th>\n",
       "      <th>user_id</th>\n",
       "      <th>user_title</th>\n",
       "      <th>user_dob</th>\n",
       "      <th>user_state</th>\n",
       "      <th>user_reg_date</th>\n",
       "    </tr>\n",
       "  </thead>\n",
       "  <tbody>\n",
       "    <tr>\n",
       "      <th>0</th>\n",
       "      <td>26</td>\n",
       "      <td>2016-06-23</td>\n",
       "      <td>2016-06-26</td>\n",
       "      <td>92</td>\n",
       "      <td>xl</td>\n",
       "      <td>turquoise</td>\n",
       "      <td>42</td>\n",
       "      <td>69.90</td>\n",
       "      <td>9392</td>\n",
       "      <td>Mrs</td>\n",
       "      <td>1962-04-14</td>\n",
       "      <td>1010</td>\n",
       "      <td>2016-03-24</td>\n",
       "    </tr>\n",
       "    <tr>\n",
       "      <th>1</th>\n",
       "      <td>28</td>\n",
       "      <td>2016-06-23</td>\n",
       "      <td>2016-07-02</td>\n",
       "      <td>2</td>\n",
       "      <td>xxl</td>\n",
       "      <td>green</td>\n",
       "      <td>2</td>\n",
       "      <td>19.90</td>\n",
       "      <td>9392</td>\n",
       "      <td>Mrs</td>\n",
       "      <td>1962-04-14</td>\n",
       "      <td>1010</td>\n",
       "      <td>2016-03-24</td>\n",
       "    </tr>\n",
       "    <tr>\n",
       "      <th>2</th>\n",
       "      <td>37</td>\n",
       "      <td>2016-06-23</td>\n",
       "      <td>2016-06-26</td>\n",
       "      <td>895</td>\n",
       "      <td>38</td>\n",
       "      <td>white</td>\n",
       "      <td>39</td>\n",
       "      <td>39.95</td>\n",
       "      <td>30826</td>\n",
       "      <td>Mrs</td>\n",
       "      <td>1964-04-27</td>\n",
       "      <td>1001</td>\n",
       "      <td>2015-02-17</td>\n",
       "    </tr>\n",
       "    <tr>\n",
       "      <th>3</th>\n",
       "      <td>56</td>\n",
       "      <td>2016-06-23</td>\n",
       "      <td>NaT</td>\n",
       "      <td>5</td>\n",
       "      <td>l</td>\n",
       "      <td>white</td>\n",
       "      <td>5</td>\n",
       "      <td>69.90</td>\n",
       "      <td>30828</td>\n",
       "      <td>Mrs</td>\n",
       "      <td>1966-05-13</td>\n",
       "      <td>1008</td>\n",
       "      <td>2016-01-21</td>\n",
       "    </tr>\n",
       "    <tr>\n",
       "      <th>4</th>\n",
       "      <td>65</td>\n",
       "      <td>2016-06-23</td>\n",
       "      <td>NaT</td>\n",
       "      <td>55</td>\n",
       "      <td>40</td>\n",
       "      <td>purple</td>\n",
       "      <td>1</td>\n",
       "      <td>89.90</td>\n",
       "      <td>22948</td>\n",
       "      <td>Mrs</td>\n",
       "      <td>1957-03-11</td>\n",
       "      <td>1001</td>\n",
       "      <td>2015-02-17</td>\n",
       "    </tr>\n",
       "  </tbody>\n",
       "</table>\n",
       "</div>"
      ],
      "text/plain": [
       "   order_item_id order_date delivery_date  item_id item_size item_color  \\\n",
       "0             26 2016-06-23    2016-06-26       92        xl  turquoise   \n",
       "1             28 2016-06-23    2016-07-02        2       xxl      green   \n",
       "2             37 2016-06-23    2016-06-26      895        38      white   \n",
       "3             56 2016-06-23           NaT        5         l      white   \n",
       "4             65 2016-06-23           NaT       55        40     purple   \n",
       "\n",
       "   brand_id  item_price  user_id user_title   user_dob  user_state  \\\n",
       "0        42       69.90     9392        Mrs 1962-04-14        1010   \n",
       "1         2       19.90     9392        Mrs 1962-04-14        1010   \n",
       "2        39       39.95    30826        Mrs 1964-04-27        1001   \n",
       "3         5       69.90    30828        Mrs 1966-05-13        1008   \n",
       "4         1       89.90    22948        Mrs 1957-03-11        1001   \n",
       "\n",
       "  user_reg_date  \n",
       "0    2016-03-24  \n",
       "1    2016-03-24  \n",
       "2    2015-02-17  \n",
       "3    2016-01-21  \n",
       "4    2015-02-17  "
      ]
     },
     "execution_count": 110,
     "metadata": {},
     "output_type": "execute_result"
    }
   ],
   "source": [
    "# viewing original test dataframe\n",
    "test_data.head()"
   ]
  },
  {
   "cell_type": "code",
   "execution_count": 111,
   "id": "9721d54d",
   "metadata": {},
   "outputs": [],
   "source": [
    "# dropping all mising value observations from test dataframe\n",
    "test_data.dropna(inplace=True)"
   ]
  },
  {
   "cell_type": "code",
   "execution_count": 112,
   "id": "29d3aece",
   "metadata": {},
   "outputs": [],
   "source": [
    "# concatenating the results to original dataframe\n",
    "test_data['return'] = y_pred"
   ]
  },
  {
   "cell_type": "code",
   "execution_count": 113,
   "id": "3928412c",
   "metadata": {},
   "outputs": [
    {
     "data": {
      "text/html": [
       "<div>\n",
       "<style scoped>\n",
       "    .dataframe tbody tr th:only-of-type {\n",
       "        vertical-align: middle;\n",
       "    }\n",
       "\n",
       "    .dataframe tbody tr th {\n",
       "        vertical-align: top;\n",
       "    }\n",
       "\n",
       "    .dataframe thead th {\n",
       "        text-align: right;\n",
       "    }\n",
       "</style>\n",
       "<table border=\"1\" class=\"dataframe\">\n",
       "  <thead>\n",
       "    <tr style=\"text-align: right;\">\n",
       "      <th></th>\n",
       "      <th>order_item_id</th>\n",
       "      <th>order_date</th>\n",
       "      <th>delivery_date</th>\n",
       "      <th>item_id</th>\n",
       "      <th>item_size</th>\n",
       "      <th>item_color</th>\n",
       "      <th>brand_id</th>\n",
       "      <th>item_price</th>\n",
       "      <th>user_id</th>\n",
       "      <th>user_title</th>\n",
       "      <th>user_dob</th>\n",
       "      <th>user_state</th>\n",
       "      <th>user_reg_date</th>\n",
       "      <th>return</th>\n",
       "    </tr>\n",
       "  </thead>\n",
       "  <tbody>\n",
       "    <tr>\n",
       "      <th>0</th>\n",
       "      <td>26</td>\n",
       "      <td>2016-06-23</td>\n",
       "      <td>2016-06-26</td>\n",
       "      <td>92</td>\n",
       "      <td>xl</td>\n",
       "      <td>turquoise</td>\n",
       "      <td>42</td>\n",
       "      <td>69.90</td>\n",
       "      <td>9392</td>\n",
       "      <td>Mrs</td>\n",
       "      <td>1962-04-14</td>\n",
       "      <td>1010</td>\n",
       "      <td>2016-03-24</td>\n",
       "      <td>1</td>\n",
       "    </tr>\n",
       "    <tr>\n",
       "      <th>1</th>\n",
       "      <td>28</td>\n",
       "      <td>2016-06-23</td>\n",
       "      <td>2016-07-02</td>\n",
       "      <td>2</td>\n",
       "      <td>xxl</td>\n",
       "      <td>green</td>\n",
       "      <td>2</td>\n",
       "      <td>19.90</td>\n",
       "      <td>9392</td>\n",
       "      <td>Mrs</td>\n",
       "      <td>1962-04-14</td>\n",
       "      <td>1010</td>\n",
       "      <td>2016-03-24</td>\n",
       "      <td>0</td>\n",
       "    </tr>\n",
       "    <tr>\n",
       "      <th>2</th>\n",
       "      <td>37</td>\n",
       "      <td>2016-06-23</td>\n",
       "      <td>2016-06-26</td>\n",
       "      <td>895</td>\n",
       "      <td>38</td>\n",
       "      <td>white</td>\n",
       "      <td>39</td>\n",
       "      <td>39.95</td>\n",
       "      <td>30826</td>\n",
       "      <td>Mrs</td>\n",
       "      <td>1964-04-27</td>\n",
       "      <td>1001</td>\n",
       "      <td>2015-02-17</td>\n",
       "      <td>0</td>\n",
       "    </tr>\n",
       "    <tr>\n",
       "      <th>5</th>\n",
       "      <td>80</td>\n",
       "      <td>2016-06-23</td>\n",
       "      <td>2016-06-26</td>\n",
       "      <td>57</td>\n",
       "      <td>l</td>\n",
       "      <td>purple</td>\n",
       "      <td>3</td>\n",
       "      <td>24.90</td>\n",
       "      <td>16075</td>\n",
       "      <td>Mrs</td>\n",
       "      <td>1969-11-03</td>\n",
       "      <td>1003</td>\n",
       "      <td>2015-11-22</td>\n",
       "      <td>0</td>\n",
       "    </tr>\n",
       "    <tr>\n",
       "      <th>6</th>\n",
       "      <td>95</td>\n",
       "      <td>2016-06-23</td>\n",
       "      <td>2016-06-26</td>\n",
       "      <td>57</td>\n",
       "      <td>xl</td>\n",
       "      <td>olive</td>\n",
       "      <td>3</td>\n",
       "      <td>34.90</td>\n",
       "      <td>17124</td>\n",
       "      <td>Mrs</td>\n",
       "      <td>1949-03-03</td>\n",
       "      <td>1015</td>\n",
       "      <td>2015-08-02</td>\n",
       "      <td>0</td>\n",
       "    </tr>\n",
       "  </tbody>\n",
       "</table>\n",
       "</div>"
      ],
      "text/plain": [
       "   order_item_id order_date delivery_date  item_id item_size item_color  \\\n",
       "0             26 2016-06-23    2016-06-26       92        xl  turquoise   \n",
       "1             28 2016-06-23    2016-07-02        2       xxl      green   \n",
       "2             37 2016-06-23    2016-06-26      895        38      white   \n",
       "5             80 2016-06-23    2016-06-26       57         l     purple   \n",
       "6             95 2016-06-23    2016-06-26       57        xl      olive   \n",
       "\n",
       "   brand_id  item_price  user_id user_title   user_dob  user_state  \\\n",
       "0        42       69.90     9392        Mrs 1962-04-14        1010   \n",
       "1         2       19.90     9392        Mrs 1962-04-14        1010   \n",
       "2        39       39.95    30826        Mrs 1964-04-27        1001   \n",
       "5         3       24.90    16075        Mrs 1969-11-03        1003   \n",
       "6         3       34.90    17124        Mrs 1949-03-03        1015   \n",
       "\n",
       "  user_reg_date  return  \n",
       "0    2016-03-24       1  \n",
       "1    2016-03-24       0  \n",
       "2    2015-02-17       0  \n",
       "5    2015-11-22       0  \n",
       "6    2015-08-02       0  "
      ]
     },
     "execution_count": 113,
     "metadata": {},
     "output_type": "execute_result"
    }
   ],
   "source": [
    "test_data.head()"
   ]
  },
  {
   "cell_type": "code",
   "execution_count": 114,
   "id": "1bf309f2",
   "metadata": {},
   "outputs": [],
   "source": [
    "# Creating the final submission file\n",
    "test_data.to_csv('submission.csv')"
   ]
  },
  {
   "cell_type": "code",
   "execution_count": null,
   "id": "a915313a",
   "metadata": {},
   "outputs": [],
   "source": []
  }
 ],
 "metadata": {
  "kernelspec": {
   "display_name": "Python 3 (ipykernel)",
   "language": "python",
   "name": "python3"
  },
  "language_info": {
   "codemirror_mode": {
    "name": "ipython",
    "version": 3
   },
   "file_extension": ".py",
   "mimetype": "text/x-python",
   "name": "python",
   "nbconvert_exporter": "python",
   "pygments_lexer": "ipython3",
   "version": "3.8.12"
  }
 },
 "nbformat": 4,
 "nbformat_minor": 5
}
